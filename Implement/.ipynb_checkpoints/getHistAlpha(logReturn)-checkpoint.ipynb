{
 "cells": [
  {
   "cell_type": "code",
   "execution_count": 1,
   "metadata": {
    "ExecuteTime": {
     "end_time": "2022-04-18T07:46:04.706433Z",
     "start_time": "2022-04-18T07:45:59.891438Z"
    }
   },
   "outputs": [
    {
     "name": "stderr",
     "output_type": "stream",
     "text": [
      "D:\\Anaconda\\lib\\site-packages\\statsmodels\\tsa\\base\\tsa_model.py:7: FutureWarning: pandas.Int64Index is deprecated and will be removed from pandas in a future version. Use pandas.Index with the appropriate dtype instead.\n",
      "  from pandas import (to_datetime, Int64Index, DatetimeIndex, Period,\n",
      "D:\\Anaconda\\lib\\site-packages\\statsmodels\\tsa\\base\\tsa_model.py:7: FutureWarning: pandas.Float64Index is deprecated and will be removed from pandas in a future version. Use pandas.Index with the appropriate dtype instead.\n",
      "  from pandas import (to_datetime, Int64Index, DatetimeIndex, Period,\n"
     ]
    }
   ],
   "source": [
    "import pandas as pd\n",
    "import numpy as np\n",
    "import alphalens\n",
    "import matplotlib.pyplot as plt\n",
    "import statsmodels.api as sm\n",
    "import matplotlib\n",
    "from dateutil.relativedelta import relativedelta"
   ]
  },
  {
   "cell_type": "code",
   "execution_count": 2,
   "metadata": {
    "ExecuteTime": {
     "end_time": "2022-04-18T07:46:04.756465Z",
     "start_time": "2022-04-18T07:46:04.730435Z"
    }
   },
   "outputs": [],
   "source": [
    "import warnings\n",
    "warnings.filterwarnings('ignore')"
   ]
  },
  {
   "cell_type": "code",
   "execution_count": 3,
   "metadata": {
    "ExecuteTime": {
     "end_time": "2022-04-18T07:46:04.782447Z",
     "start_time": "2022-04-18T07:46:04.762459Z"
    }
   },
   "outputs": [],
   "source": [
    "import os\n",
    "os.chdir('../')"
   ]
  },
  {
   "cell_type": "code",
   "execution_count": 4,
   "metadata": {
    "ExecuteTime": {
     "end_time": "2022-04-18T07:46:04.845434Z",
     "start_time": "2022-04-18T07:46:04.806462Z"
    }
   },
   "outputs": [],
   "source": [
    "matplotlib.rcParams['font.sans-serif']=['Times New Roman'] "
   ]
  },
  {
   "cell_type": "markdown",
   "metadata": {},
   "source": [
    "#### 1.数据读取"
   ]
  },
  {
   "cell_type": "code",
   "execution_count": 5,
   "metadata": {
    "ExecuteTime": {
     "end_time": "2022-04-18T07:46:09.305658Z",
     "start_time": "2022-04-18T07:46:04.850436Z"
    }
   },
   "outputs": [],
   "source": [
    "#股票数据，并求出股票的log return用以\n",
    "stk_close = pd.read_csv(\"./Data/StkClose.csv\",index_col = 0)"
   ]
  },
  {
   "cell_type": "code",
   "execution_count": 6,
   "metadata": {
    "ExecuteTime": {
     "end_time": "2022-04-18T07:46:09.321655Z",
     "start_time": "2022-04-18T07:46:09.307662Z"
    }
   },
   "outputs": [],
   "source": [
    "stk_close.index = pd.to_datetime(stk_close.index)"
   ]
  },
  {
   "cell_type": "code",
   "execution_count": 7,
   "metadata": {
    "ExecuteTime": {
     "end_time": "2022-04-18T07:46:09.561551Z",
     "start_time": "2022-04-18T07:46:09.324666Z"
    }
   },
   "outputs": [],
   "source": [
    "filled_stk_close = stk_close.asfreq(\"D\").ffill()"
   ]
  },
  {
   "cell_type": "code",
   "execution_count": 8,
   "metadata": {
    "ExecuteTime": {
     "end_time": "2022-04-18T07:46:09.893484Z",
     "start_time": "2022-04-18T07:46:09.564557Z"
    }
   },
   "outputs": [],
   "source": [
    "filled_stk_lr = np.log(filled_stk_close).diff(axis = 0)#可以使用log return作差，因为主要还是判断正负号"
   ]
  },
  {
   "cell_type": "code",
   "execution_count": 9,
   "metadata": {
    "ExecuteTime": {
     "end_time": "2022-04-18T07:46:47.843605Z",
     "start_time": "2022-04-18T07:46:09.895450Z"
    }
   },
   "outputs": [],
   "source": [
    "# 基金数据，并分类到股票型基金\n",
    "nv_2010to2014 = pd.read_csv(\"./Data/AdjustedNav(2010to2014).csv\",index_col = 0)\n",
    "nv_2015to2018 = pd.read_csv(\"./Data/AdjustedNav(2015to2018).csv\",index_col = 0)\n",
    "nv_2019to2022 = pd.read_csv(\"./Data/AdjustedNav(2019to2022).csv\",index_col = 0)"
   ]
  },
  {
   "cell_type": "code",
   "execution_count": 10,
   "metadata": {
    "ExecuteTime": {
     "end_time": "2022-04-18T07:46:48.251603Z",
     "start_time": "2022-04-18T07:46:47.848613Z"
    }
   },
   "outputs": [],
   "source": [
    "nv = pd.concat([nv_2010to2014,nv_2015to2018,nv_2019to2022])"
   ]
  },
  {
   "cell_type": "code",
   "execution_count": 11,
   "metadata": {
    "ExecuteTime": {
     "end_time": "2022-04-18T07:46:48.267603Z",
     "start_time": "2022-04-18T07:46:48.254606Z"
    }
   },
   "outputs": [],
   "source": [
    "nv.index = pd.to_datetime(nv.index)"
   ]
  },
  {
   "cell_type": "code",
   "execution_count": 12,
   "metadata": {
    "ExecuteTime": {
     "end_time": "2022-04-18T07:46:49.172605Z",
     "start_time": "2022-04-18T07:46:48.271607Z"
    }
   },
   "outputs": [],
   "source": [
    "filled_nv = nv.asfreq(\"D\").ffill()"
   ]
  },
  {
   "cell_type": "code",
   "execution_count": 13,
   "metadata": {
    "ExecuteTime": {
     "end_time": "2022-04-18T07:46:51.498602Z",
     "start_time": "2022-04-18T07:46:49.174607Z"
    }
   },
   "outputs": [],
   "source": [
    "filled_nv_return = nv.pct_change(axis = 0)#简单收益率\n",
    "filled_nv_lr = np.log(filled_nv).diff(axis = 0)#对数收益率，log return"
   ]
  },
  {
   "cell_type": "code",
   "execution_count": 14,
   "metadata": {
    "ExecuteTime": {
     "end_time": "2022-04-18T07:46:53.231603Z",
     "start_time": "2022-04-18T07:46:51.501608Z"
    }
   },
   "outputs": [],
   "source": [
    "# 市场收益率\n",
    "rm_stk_port = pd.read_excel(\"./Data/股票型基金指数.xlsx\",index_col = \"date\")\n",
    "rm_citic = pd.read_excel(\"./Data/中信500宽基指数.xlsx\",index_col = \"date\")\n",
    "\n",
    "filled_rm_stk_port = rm_stk_port.asfreq(\"D\").ffill()\n",
    "filled_rm_citic = rm_citic.asfreq(\"D\").ffill()\n",
    "\n",
    "filled_rm_stk_lr = np.log(filled_rm_stk_port).diff()#对数的偏股型基金指数收益率\n",
    "filled_rm_citic_lr = np.log(filled_rm_citic).diff()#对数的中证500宽基指数收益率"
   ]
  },
  {
   "cell_type": "code",
   "execution_count": 15,
   "metadata": {
    "ExecuteTime": {
     "end_time": "2022-04-18T07:46:53.263604Z",
     "start_time": "2022-04-18T07:46:53.234606Z"
    }
   },
   "outputs": [],
   "source": [
    "# 导入因子数据\n",
    "factor_info = pd.read_csv(\"./Data/FactorInfo.csv\",index_col = 0)"
   ]
  },
  {
   "cell_type": "code",
   "execution_count": 16,
   "metadata": {
    "ExecuteTime": {
     "end_time": "2022-04-18T07:46:53.295603Z",
     "start_time": "2022-04-18T07:46:53.267607Z"
    }
   },
   "outputs": [],
   "source": [
    "factor_info.index = pd.to_datetime(factor_info.index)\n",
    "filled_factor_info = factor_info.asfreq(\"D\").ffill()"
   ]
  },
  {
   "cell_type": "code",
   "execution_count": 17,
   "metadata": {
    "ExecuteTime": {
     "end_time": "2022-04-18T07:47:00.908389Z",
     "start_time": "2022-04-18T07:46:53.298605Z"
    }
   },
   "outputs": [],
   "source": [
    "#导入成立日期、基金规模、带股基金类型等限定数据\n",
    "stkfund_info = pd.read_excel('./Data/StkMutualFundInfo.xlsx',index_col = 0)\n",
    "stkfund_scale = pd.read_excel('./Data/StkMutualaFundScale.xlsx',index_col = 0)"
   ]
  },
  {
   "cell_type": "code",
   "execution_count": 18,
   "metadata": {
    "ExecuteTime": {
     "end_time": "2022-04-18T07:47:00.985387Z",
     "start_time": "2022-04-18T07:47:00.912392Z"
    }
   },
   "outputs": [],
   "source": [
    "# 月初月末表\n",
    "month_begin_end = pd.read_excel(\"./Data/MonthBeginEnd.xlsx\")"
   ]
  },
  {
   "cell_type": "markdown",
   "metadata": {},
   "source": [
    "#### 2.获取基金每个季度的alpha因子"
   ]
  },
  {
   "cell_type": "code",
   "execution_count": 19,
   "metadata": {
    "ExecuteTime": {
     "end_time": "2022-04-18T07:47:01.000387Z",
     "start_time": "2022-04-18T07:47:00.988388Z"
    }
   },
   "outputs": [],
   "source": [
    "filled_factor_info[\"MONTH\"] = filled_factor_info.index.to_period('m')"
   ]
  },
  {
   "cell_type": "code",
   "execution_count": 20,
   "metadata": {
    "ExecuteTime": {
     "end_time": "2022-04-18T07:47:01.015387Z",
     "start_time": "2022-04-18T07:47:01.003391Z"
    }
   },
   "outputs": [],
   "source": [
    "filled_factor_info[\"DATE\"] = filled_factor_info.index"
   ]
  },
  {
   "cell_type": "code",
   "execution_count": 21,
   "metadata": {
    "ExecuteTime": {
     "end_time": "2022-04-18T07:47:01.030387Z",
     "start_time": "2022-04-18T07:47:01.018392Z"
    }
   },
   "outputs": [],
   "source": [
    "backtest_month = filled_factor_info.groupby([\"MONTH\"]).last().DATE"
   ]
  },
  {
   "cell_type": "code",
   "execution_count": 22,
   "metadata": {
    "ExecuteTime": {
     "end_time": "2022-04-18T07:47:01.465387Z",
     "start_time": "2022-04-18T07:47:01.035392Z"
    }
   },
   "outputs": [],
   "source": [
    "alpha = pd.DataFrame(index = backtest_month,columns = nv.columns)"
   ]
  },
  {
   "cell_type": "code",
   "execution_count": 23,
   "metadata": {
    "ExecuteTime": {
     "end_time": "2022-04-18T07:47:01.481392Z",
     "start_time": "2022-04-18T07:47:01.472390Z"
    }
   },
   "outputs": [],
   "source": [
    "start_date = pd.to_datetime(\"2013-12-31\")\n",
    "end_date = pd.to_datetime(\"2022-03-31\")"
   ]
  },
  {
   "cell_type": "code",
   "execution_count": 24,
   "metadata": {
    "ExecuteTime": {
     "end_time": "2022-04-18T07:47:01.893415Z",
     "start_time": "2022-04-18T07:47:01.488397Z"
    }
   },
   "outputs": [],
   "source": [
    "trade_date = pd.read_excel(\"./Data/TradeDate.xlsx\")"
   ]
  },
  {
   "cell_type": "code",
   "execution_count": 25,
   "metadata": {
    "ExecuteTime": {
     "end_time": "2022-04-18T07:47:01.938395Z",
     "start_time": "2022-04-18T07:47:01.903392Z"
    }
   },
   "outputs": [],
   "source": [
    "stkfund_list = stkfund_info.query(\"IS_INITIAL == '是' and IS_FOF == '否'\").index.tolist()"
   ]
  },
  {
   "cell_type": "code",
   "execution_count": 26,
   "metadata": {
    "ExecuteTime": {
     "end_time": "2022-04-18T07:47:02.805388Z",
     "start_time": "2022-04-18T07:47:01.947402Z"
    }
   },
   "outputs": [],
   "source": [
    "trade_filled_nv_lr = filled_nv_lr.loc[list(set(filled_nv_lr.index)&set(trade_date.DATE))].sort_index()"
   ]
  },
  {
   "cell_type": "code",
   "execution_count": 27,
   "metadata": {
    "ExecuteTime": {
     "end_time": "2022-04-18T08:13:07.654141Z",
     "start_time": "2022-04-18T07:47:02.808391Z"
    }
   },
   "outputs": [
    {
     "name": "stdout",
     "output_type": "stream",
     "text": [
      "2013-12-31 00:00:00 2013-09-30 00:00:00\n",
      "2014-01-31 00:00:00 2013-10-31 00:00:00\n",
      "2014-02-28 00:00:00 2013-11-28 00:00:00\n",
      "2014-03-31 00:00:00 2013-12-31 00:00:00\n",
      "2014-04-30 00:00:00 2014-01-30 00:00:00\n",
      "2014-05-31 00:00:00 2014-02-28 00:00:00\n",
      "2014-06-30 00:00:00 2014-03-30 00:00:00\n",
      "2014-07-31 00:00:00 2014-04-30 00:00:00\n",
      "2014-08-31 00:00:00 2014-05-31 00:00:00\n",
      "2014-09-30 00:00:00 2014-06-30 00:00:00\n",
      "2014-10-31 00:00:00 2014-07-31 00:00:00\n",
      "2014-11-30 00:00:00 2014-08-30 00:00:00\n",
      "2014-12-31 00:00:00 2014-09-30 00:00:00\n",
      "2015-01-31 00:00:00 2014-10-31 00:00:00\n",
      "2015-02-28 00:00:00 2014-11-28 00:00:00\n",
      "2015-03-31 00:00:00 2014-12-31 00:00:00\n",
      "2015-04-30 00:00:00 2015-01-30 00:00:00\n",
      "2015-05-31 00:00:00 2015-02-28 00:00:00\n",
      "2015-06-30 00:00:00 2015-03-30 00:00:00\n",
      "2015-07-31 00:00:00 2015-04-30 00:00:00\n",
      "2015-08-31 00:00:00 2015-05-31 00:00:00\n",
      "2015-09-30 00:00:00 2015-06-30 00:00:00\n",
      "2015-10-31 00:00:00 2015-07-31 00:00:00\n",
      "2015-11-30 00:00:00 2015-08-30 00:00:00\n",
      "2015-12-31 00:00:00 2015-09-30 00:00:00\n",
      "2016-01-31 00:00:00 2015-10-31 00:00:00\n",
      "2016-02-29 00:00:00 2015-11-29 00:00:00\n",
      "2016-03-31 00:00:00 2015-12-31 00:00:00\n",
      "2016-04-30 00:00:00 2016-01-30 00:00:00\n",
      "2016-05-31 00:00:00 2016-02-29 00:00:00\n",
      "2016-06-30 00:00:00 2016-03-30 00:00:00\n",
      "2016-07-31 00:00:00 2016-04-30 00:00:00\n",
      "2016-08-31 00:00:00 2016-05-31 00:00:00\n",
      "2016-09-30 00:00:00 2016-06-30 00:00:00\n",
      "2016-10-31 00:00:00 2016-07-31 00:00:00\n",
      "2016-11-30 00:00:00 2016-08-30 00:00:00\n",
      "2016-12-31 00:00:00 2016-09-30 00:00:00\n",
      "2017-01-31 00:00:00 2016-10-31 00:00:00\n",
      "2017-02-28 00:00:00 2016-11-28 00:00:00\n",
      "2017-03-31 00:00:00 2016-12-31 00:00:00\n",
      "2017-04-30 00:00:00 2017-01-30 00:00:00\n",
      "2017-05-31 00:00:00 2017-02-28 00:00:00\n",
      "2017-06-30 00:00:00 2017-03-30 00:00:00\n",
      "2017-07-31 00:00:00 2017-04-30 00:00:00\n",
      "2017-08-31 00:00:00 2017-05-31 00:00:00\n",
      "2017-09-30 00:00:00 2017-06-30 00:00:00\n",
      "2017-10-31 00:00:00 2017-07-31 00:00:00\n",
      "2017-11-30 00:00:00 2017-08-30 00:00:00\n",
      "2017-12-31 00:00:00 2017-09-30 00:00:00\n",
      "2018-01-31 00:00:00 2017-10-31 00:00:00\n",
      "2018-02-28 00:00:00 2017-11-28 00:00:00\n",
      "2018-03-31 00:00:00 2017-12-31 00:00:00\n",
      "2018-04-30 00:00:00 2018-01-30 00:00:00\n",
      "2018-05-31 00:00:00 2018-02-28 00:00:00\n",
      "2018-06-30 00:00:00 2018-03-30 00:00:00\n",
      "2018-07-31 00:00:00 2018-04-30 00:00:00\n",
      "2018-08-31 00:00:00 2018-05-31 00:00:00\n",
      "2018-09-30 00:00:00 2018-06-30 00:00:00\n",
      "2018-10-31 00:00:00 2018-07-31 00:00:00\n",
      "2018-11-30 00:00:00 2018-08-30 00:00:00\n",
      "2018-12-31 00:00:00 2018-09-30 00:00:00\n",
      "2019-01-31 00:00:00 2018-10-31 00:00:00\n",
      "2019-02-28 00:00:00 2018-11-28 00:00:00\n",
      "2019-03-31 00:00:00 2018-12-31 00:00:00\n",
      "2019-04-30 00:00:00 2019-01-30 00:00:00\n",
      "2019-05-31 00:00:00 2019-02-28 00:00:00\n",
      "2019-06-30 00:00:00 2019-03-30 00:00:00\n",
      "2019-07-31 00:00:00 2019-04-30 00:00:00\n",
      "2019-08-31 00:00:00 2019-05-31 00:00:00\n",
      "2019-09-30 00:00:00 2019-06-30 00:00:00\n",
      "2019-10-31 00:00:00 2019-07-31 00:00:00\n",
      "2019-11-30 00:00:00 2019-08-30 00:00:00\n",
      "2019-12-31 00:00:00 2019-09-30 00:00:00\n",
      "2020-01-31 00:00:00 2019-10-31 00:00:00\n",
      "2020-02-29 00:00:00 2019-11-29 00:00:00\n",
      "2020-03-31 00:00:00 2019-12-31 00:00:00\n",
      "2020-04-30 00:00:00 2020-01-30 00:00:00\n",
      "2020-05-31 00:00:00 2020-02-29 00:00:00\n",
      "2020-06-30 00:00:00 2020-03-30 00:00:00\n",
      "2020-07-31 00:00:00 2020-04-30 00:00:00\n",
      "2020-08-31 00:00:00 2020-05-31 00:00:00\n",
      "2020-09-30 00:00:00 2020-06-30 00:00:00\n",
      "2020-10-31 00:00:00 2020-07-31 00:00:00\n",
      "2020-11-30 00:00:00 2020-08-30 00:00:00\n",
      "2020-12-31 00:00:00 2020-09-30 00:00:00\n",
      "2021-01-31 00:00:00 2020-10-31 00:00:00\n",
      "2021-02-28 00:00:00 2020-11-28 00:00:00\n",
      "2021-03-31 00:00:00 2020-12-31 00:00:00\n",
      "2021-04-30 00:00:00 2021-01-30 00:00:00\n",
      "2021-05-31 00:00:00 2021-02-28 00:00:00\n",
      "2021-06-30 00:00:00 2021-03-30 00:00:00\n",
      "2021-07-31 00:00:00 2021-04-30 00:00:00\n",
      "2021-08-31 00:00:00 2021-05-31 00:00:00\n",
      "2021-09-30 00:00:00 2021-06-30 00:00:00\n",
      "2021-10-31 00:00:00 2021-07-31 00:00:00\n",
      "2021-11-30 00:00:00 2021-08-30 00:00:00\n",
      "2021-12-31 00:00:00 2021-09-30 00:00:00\n",
      "2022-01-31 00:00:00 2021-10-31 00:00:00\n",
      "2022-02-28 00:00:00 2021-11-28 00:00:00\n",
      "2022-03-31 00:00:00 2021-12-31 00:00:00\n"
     ]
    }
   ],
   "source": [
    "for month in backtest_month[backtest_month >= start_date]:\n",
    "    print(month,month - relativedelta(months = 3)) # backtest season start and end\n",
    "    for fund in filled_nv_lr.loc[:,set(stkfund_list) & set(filled_nv_lr.columns)]: # mutual fund with stock heavyweight\n",
    "        tmp_return = trade_filled_nv_lr.loc[month - relativedelta(months = 3):month,fund] # last season \n",
    "        tmp_return.dropna(inplace = True)\n",
    "        if len(tmp_return) < 45: # not enough to fit \n",
    "            continue\n",
    "        tmp_factor = factor_info.loc[month - relativedelta(months = 3):month] # last season\n",
    "        tmp_factor = sm.add_constant(tmp_factor) \n",
    "\n",
    "        # paramaters estimation\n",
    "        est = sm.OLS(tmp_return-tmp_factor.RF,tmp_factor.drop(\"RF\",axis = 1)) # factor model fit\n",
    "        est = est.fit()\n",
    "        tmp_alpha = est.params.const # alpha\n",
    "        tmp_pvalue = est.pvalues.const # p-value\n",
    "#         if tmp_pvalue<=0.05 and tmp_alpha > 0:\n",
    "#             alpha.at[month,fund] = tmp_alpha # store alpha, if and only if significant and bigger than zero            \n",
    "#             print(f\"{month},{fund},{tmp_alpha},{tmp_pvalue<=0.05} finished\") # significant at 90% level\n",
    "#         if  tmp_alpha > 0:\n",
    "#             alpha.at[month,fund] = tmp_alpha # store alpha, if and only if significant and bigger than zero            \n",
    "#             print(f\"{month},{fund},{tmp_alpha},{tmp_pvalue<=0.05} finished\") # significant at 90% level\n",
    "        alpha.at[month,fund] = tmp_alpha"
   ]
  },
  {
   "cell_type": "code",
   "execution_count": 28,
   "metadata": {
    "ExecuteTime": {
     "end_time": "2022-04-18T08:13:10.880173Z",
     "start_time": "2022-04-18T08:13:07.660146Z"
    }
   },
   "outputs": [],
   "source": [
    "alpha.to_csv(\"./Output/alpha_log_return(all).csv\")"
   ]
  }
 ],
 "metadata": {
  "kernelspec": {
   "display_name": "Python 3 (ipykernel)",
   "language": "python",
   "name": "python3"
  },
  "language_info": {
   "codemirror_mode": {
    "name": "ipython",
    "version": 3
   },
   "file_extension": ".py",
   "mimetype": "text/x-python",
   "name": "python",
   "nbconvert_exporter": "python",
   "pygments_lexer": "ipython3",
   "version": "3.9.7"
  }
 },
 "nbformat": 4,
 "nbformat_minor": 4
}
