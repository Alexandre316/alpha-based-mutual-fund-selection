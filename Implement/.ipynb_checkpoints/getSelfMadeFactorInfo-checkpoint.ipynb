{
 "cells": [
  {
   "cell_type": "code",
   "execution_count": 1,
   "id": "133df99f",
   "metadata": {
    "ExecuteTime": {
     "end_time": "2022-04-19T08:52:44.656748Z",
     "start_time": "2022-04-19T08:52:43.957746Z"
    }
   },
   "outputs": [],
   "source": [
    "import pandas as pd\n",
    "import numpy as np"
   ]
  },
  {
   "cell_type": "code",
   "execution_count": 2,
   "id": "4102546f",
   "metadata": {
    "ExecuteTime": {
     "end_time": "2022-04-19T08:52:44.672880Z",
     "start_time": "2022-04-19T08:52:44.659767Z"
    }
   },
   "outputs": [],
   "source": [
    "import os\n",
    "os.chdir(\"../\")"
   ]
  },
  {
   "cell_type": "markdown",
   "id": "f52b0bee",
   "metadata": {},
   "source": [
    "#### 1.导入数据"
   ]
  },
  {
   "cell_type": "code",
   "execution_count": 3,
   "id": "addac6d3",
   "metadata": {
    "ExecuteTime": {
     "end_time": "2022-04-19T08:52:48.028874Z",
     "start_time": "2022-04-19T08:52:44.675744Z"
    }
   },
   "outputs": [],
   "source": [
    "stk_close = pd.read_csv(\"./Data/StkClose.csv\",index_col = 0) # 股票收盘价"
   ]
  },
  {
   "cell_type": "code",
   "execution_count": 4,
   "id": "4e3c9d0d",
   "metadata": {
    "ExecuteTime": {
     "end_time": "2022-04-19T08:52:48.235754Z",
     "start_time": "2022-04-19T08:52:48.032760Z"
    }
   },
   "outputs": [],
   "source": [
    "stk_daily_return = stk_close.pct_change()\n",
    "stk_daily_return.index = pd.to_datetime(stk_daily_return.index)"
   ]
  },
  {
   "cell_type": "code",
   "execution_count": 5,
   "id": "bec34e67",
   "metadata": {
    "ExecuteTime": {
     "end_time": "2022-04-19T08:52:48.470764Z",
     "start_time": "2022-04-19T08:52:48.237745Z"
    }
   },
   "outputs": [],
   "source": [
    "stk_log_return = np.log(stk_close).diff()\n",
    "stk_log_return.index = pd.to_datetime(stk_log_return.index)"
   ]
  },
  {
   "cell_type": "code",
   "execution_count": 6,
   "id": "baf36425",
   "metadata": {
    "ExecuteTime": {
     "end_time": "2022-04-19T08:52:53.562868Z",
     "start_time": "2022-04-19T08:52:48.472744Z"
    }
   },
   "outputs": [],
   "source": [
    "stk_actual_publish_date = pd.read_excel(\"./Data/ActualPublishDate.xlsx\",index_col = 0)\n",
    "trade_date = pd.read_excel(\"./Data/TradeDate.xlsx\")"
   ]
  },
  {
   "cell_type": "code",
   "execution_count": 7,
   "id": "c2cf426c",
   "metadata": {
    "ExecuteTime": {
     "end_time": "2022-04-19T08:52:54.031875Z",
     "start_time": "2022-04-19T08:52:53.564743Z"
    }
   },
   "outputs": [],
   "source": [
    "# 市场收益率\n",
    "rm_stk_port = pd.read_excel(\"./Data/StkMutualFundIndex.xlsx\",index_col = \"date\")\n",
    "filled_rm_stk_port = rm_stk_port.asfreq(\"D\").ffill()\n",
    "filled_rm_stk_lr = np.log(filled_rm_stk_port).diff() # 对数的偏股型基金指数收益率"
   ]
  },
  {
   "cell_type": "code",
   "execution_count": 8,
   "id": "d5ca230e",
   "metadata": {
    "ExecuteTime": {
     "end_time": "2022-04-19T08:53:35.474735Z",
     "start_time": "2022-04-19T08:52:54.034746Z"
    },
    "collapsed": true
   },
   "outputs": [
    {
     "name": "stdout",
     "output_type": "stream",
     "text": [
      "processing 2010-03-31 00:00:00\n",
      "processing 2010-06-30 00:00:00\n",
      "processing 2010-09-30 00:00:00\n",
      "processing 2010-12-31 00:00:00\n",
      "processing 2011-03-31 00:00:00\n",
      "processing 2011-06-30 00:00:00\n",
      "processing 2011-09-30 00:00:00\n",
      "processing 2011-12-31 00:00:00\n",
      "processing 2012-03-31 00:00:00\n",
      "processing 2012-06-30 00:00:00\n",
      "processing 2012-09-30 00:00:00\n",
      "processing 2012-12-31 00:00:00\n",
      "processing 2013-03-31 00:00:00\n",
      "processing 2013-06-30 00:00:00\n",
      "processing 2013-09-30 00:00:00\n",
      "processing 2013-12-31 00:00:00\n",
      "processing 2014-03-31 00:00:00\n",
      "processing 2014-06-30 00:00:00\n",
      "processing 2014-09-30 00:00:00\n",
      "processing 2014-12-31 00:00:00\n",
      "processing 2015-03-31 00:00:00\n",
      "processing 2015-06-30 00:00:00\n",
      "processing 2015-09-30 00:00:00\n",
      "processing 2015-12-31 00:00:00\n",
      "processing 2016-03-31 00:00:00\n",
      "processing 2016-06-30 00:00:00\n",
      "processing 2016-09-30 00:00:00\n",
      "processing 2016-12-31 00:00:00\n",
      "processing 2017-03-31 00:00:00\n",
      "processing 2017-06-30 00:00:00\n",
      "processing 2017-09-30 00:00:00\n",
      "processing 2017-12-31 00:00:00\n",
      "processing 2018-03-31 00:00:00\n",
      "processing 2018-06-30 00:00:00\n",
      "processing 2018-09-30 00:00:00\n",
      "processing 2018-12-31 00:00:00\n",
      "processing 2019-03-31 00:00:00\n",
      "processing 2019-06-30 00:00:00\n",
      "processing 2019-09-30 00:00:00\n",
      "processing 2019-12-31 00:00:00\n",
      "processing 2020-03-31 00:00:00\n",
      "processing 2020-06-30 00:00:00\n",
      "processing 2020-09-30 00:00:00\n",
      "processing 2020-12-31 00:00:00\n",
      "processing 2021-03-31 00:00:00\n",
      "processing 2021-06-30 00:00:00\n",
      "processing 2021-09-30 00:00:00\n"
     ]
    }
   ],
   "source": [
    "# 单季度净利润同比增长率\n",
    "net_profit_yoy = pd.read_excel(\"./Data/NetProfitYoy.xlsx\",index_col = 0)\n",
    "actual_net_profit_yoy = pd.DataFrame(index = pd.date_range(net_profit_yoy.index[0],\"2021-12-31\"),\n",
    "                                     columns = net_profit_yoy.columns)\n",
    "\n",
    "for season in net_profit_yoy.index:\n",
    "    print(f\"processing {season}\")\n",
    "    for fund in net_profit_yoy.columns:\n",
    "        if pd.isnull(net_profit_yoy.at[season,fund]):\n",
    "            continue\n",
    "        fund_actual_publish_date = stk_actual_publish_date.at[season,fund]\n",
    "        if pd.isnull(fund_actual_publish_date):\n",
    "            continue\n",
    "        fund_net_profit_yoy = net_profit_yoy.at[season,fund]\n",
    "        actual_net_profit_yoy.at[fund_actual_publish_date,fund] = fund_net_profit_yoy"
   ]
  },
  {
   "cell_type": "code",
   "execution_count": 9,
   "id": "1cc7a388",
   "metadata": {
    "ExecuteTime": {
     "end_time": "2022-04-19T08:53:41.288641Z",
     "start_time": "2022-04-19T08:53:35.476612Z"
    }
   },
   "outputs": [],
   "source": [
    "actual_net_profit_yoy.ffill(inplace = True)"
   ]
  },
  {
   "cell_type": "code",
   "execution_count": 10,
   "id": "9ec7e016",
   "metadata": {
    "ExecuteTime": {
     "end_time": "2022-04-19T08:54:26.206522Z",
     "start_time": "2022-04-19T08:53:41.291614Z"
    },
    "collapsed": true
   },
   "outputs": [
    {
     "name": "stdout",
     "output_type": "stream",
     "text": [
      "processing 2010-03-31 00:00:00\n",
      "processing 2010-06-30 00:00:00\n",
      "processing 2010-09-30 00:00:00\n",
      "processing 2010-12-31 00:00:00\n",
      "processing 2011-03-31 00:00:00\n",
      "processing 2011-06-30 00:00:00\n",
      "processing 2011-09-30 00:00:00\n",
      "processing 2011-12-31 00:00:00\n",
      "processing 2012-03-31 00:00:00\n",
      "processing 2012-06-30 00:00:00\n",
      "processing 2012-09-30 00:00:00\n",
      "processing 2012-12-31 00:00:00\n",
      "processing 2013-03-31 00:00:00\n",
      "processing 2013-06-30 00:00:00\n",
      "processing 2013-09-30 00:00:00\n",
      "processing 2013-12-31 00:00:00\n",
      "processing 2014-03-31 00:00:00\n",
      "processing 2014-06-30 00:00:00\n",
      "processing 2014-09-30 00:00:00\n",
      "processing 2014-12-31 00:00:00\n",
      "processing 2015-03-31 00:00:00\n",
      "processing 2015-06-30 00:00:00\n",
      "processing 2015-09-30 00:00:00\n",
      "processing 2015-12-31 00:00:00\n",
      "processing 2016-03-31 00:00:00\n",
      "processing 2016-06-30 00:00:00\n",
      "processing 2016-09-30 00:00:00\n",
      "processing 2016-12-31 00:00:00\n",
      "processing 2017-03-31 00:00:00\n",
      "processing 2017-06-30 00:00:00\n",
      "processing 2017-09-30 00:00:00\n",
      "processing 2017-12-31 00:00:00\n",
      "processing 2018-03-31 00:00:00\n",
      "processing 2018-06-30 00:00:00\n",
      "processing 2018-09-30 00:00:00\n",
      "processing 2018-12-31 00:00:00\n",
      "processing 2019-03-31 00:00:00\n",
      "processing 2019-06-30 00:00:00\n",
      "processing 2019-09-30 00:00:00\n",
      "processing 2019-12-31 00:00:00\n",
      "processing 2020-03-31 00:00:00\n",
      "processing 2020-06-30 00:00:00\n",
      "processing 2020-09-30 00:00:00\n",
      "processing 2020-12-31 00:00:00\n",
      "processing 2021-03-31 00:00:00\n",
      "processing 2021-06-30 00:00:00\n",
      "processing 2021-09-30 00:00:00\n"
     ]
    }
   ],
   "source": [
    "# roe ttm \n",
    "roe_ttm = pd.read_excel(\"./Data/RoeTtm.xlsx\",index_col = 0)\n",
    "actual_roe_ttm = pd.DataFrame(index = pd.date_range(roe_ttm.index[0],\"2021-12-31\"),\n",
    "                                      columns = roe_ttm.columns)\n",
    "\n",
    "for season in roe_ttm.index:\n",
    "    print(f\"processing {season}\")\n",
    "    for fund in roe_ttm.columns:\n",
    "        if pd.isnull(roe_ttm.at[season,fund]):\n",
    "            continue\n",
    "        fund_actual_publish_date = stk_actual_publish_date.at[season,fund]\n",
    "        if pd.isnull(fund_actual_publish_date):\n",
    "            continue\n",
    "        fund_roe_ttm = roe_ttm.at[season,fund]\n",
    "        actual_roe_ttm.at[fund_actual_publish_date,fund] = fund_roe_ttm"
   ]
  },
  {
   "cell_type": "code",
   "execution_count": 11,
   "id": "f35e9e07",
   "metadata": {
    "ExecuteTime": {
     "end_time": "2022-04-19T08:54:31.490636Z",
     "start_time": "2022-04-19T08:54:26.208516Z"
    }
   },
   "outputs": [],
   "source": [
    "actual_roe_ttm.ffill(inplace = True)"
   ]
  },
  {
   "cell_type": "code",
   "execution_count": 12,
   "id": "d028c941",
   "metadata": {
    "ExecuteTime": {
     "end_time": "2022-04-19T08:54:35.861514Z",
     "start_time": "2022-04-19T08:54:31.492514Z"
    }
   },
   "outputs": [
    {
     "name": "stderr",
     "output_type": "stream",
     "text": [
      "C:\\Users\\93973\\AppData\\Local\\Temp\\ipykernel_4688\\2720215269.py:2: DtypeWarning: Columns (0) have mixed types. Specify dtype option on import or set low_memory=False.\n",
      "  actual_pb = pd.read_csv(\"./Data/pb.csv\",index_col = 0)\n"
     ]
    }
   ],
   "source": [
    "# pb\n",
    "actual_pb = pd.read_csv(\"./Data/pb.csv\",index_col = 0)"
   ]
  },
  {
   "cell_type": "code",
   "execution_count": 13,
   "id": "6dd5ae5e",
   "metadata": {
    "ExecuteTime": {
     "end_time": "2022-04-19T08:54:39.552552Z",
     "start_time": "2022-04-19T08:54:35.863513Z"
    }
   },
   "outputs": [],
   "source": [
    "# market value\n",
    "actual_mkt_value = pd.read_csv(\"./Data/MarketValue.csv\",index_col = 0)"
   ]
  },
  {
   "cell_type": "code",
   "execution_count": 14,
   "id": "f18929c9",
   "metadata": {
    "ExecuteTime": {
     "end_time": "2022-04-19T08:54:39.583595Z",
     "start_time": "2022-04-19T08:54:39.559517Z"
    }
   },
   "outputs": [],
   "source": [
    "actual_pb.index = pd.to_datetime(actual_pb.index)\n",
    "actual_mkt_value.index = pd.to_datetime(actual_mkt_value.index)"
   ]
  },
  {
   "cell_type": "markdown",
   "id": "1c5eae8c",
   "metadata": {},
   "source": [
    "#### 2.根据因子获取收益率序列"
   ]
  },
  {
   "cell_type": "code",
   "execution_count": 18,
   "id": "8da9e4b6",
   "metadata": {
    "ExecuteTime": {
     "end_time": "2022-04-19T08:55:32.383950Z",
     "start_time": "2022-04-19T08:55:32.370937Z"
    }
   },
   "outputs": [],
   "source": [
    "factor_info = pd.DataFrame(index = pd.date_range(\"2013-09-30\",\"2021-12-31\"),columns = [\"R_NP\",\"R_ROE\",\"R_PB\",\"R_MKT\"])"
   ]
  },
  {
   "cell_type": "code",
   "execution_count": 19,
   "id": "fe616c29",
   "metadata": {
    "ExecuteTime": {
     "end_time": "2022-04-19T08:56:09.907985Z",
     "start_time": "2022-04-19T08:55:32.387919Z"
    }
   },
   "outputs": [],
   "source": [
    "# net value yoy\n",
    "for date in pd.date_range(\"2013-09-30\",\"2021-11-23\"):\n",
    "    if date not in trade_date.DATE.tolist():\n",
    "        continue\n",
    "    top_np_group = actual_net_profit_yoy.loc[date].dropna().sort_values(ascending = False)\\\n",
    "    .iloc[:int((1/3)*len(actual_net_profit_yoy.loc[date].dropna()))].index\n",
    "    tail_np_group = actual_net_profit_yoy.loc[date].dropna().sort_values(ascending = False)\\\n",
    "    .iloc[int((2/3)*len(actual_net_profit_yoy.loc[date].dropna())):].index\n",
    "    \n",
    "    top_np_group = list(set(top_np_group) & set(stk_log_return.columns))\n",
    "    tail_np_group = list(set(tail_np_group) & set(stk_log_return.columns))\n",
    "    \n",
    "    daily_r_np = stk_log_return.loc[date,top_np_group].mean() - stk_log_return.loc[date,tail_np_group].mean()\n",
    "    factor_info.at[date,\"R_NP\"] = daily_r_np"
   ]
  },
  {
   "cell_type": "code",
   "execution_count": 20,
   "id": "cb4abb76",
   "metadata": {
    "ExecuteTime": {
     "end_time": "2022-04-19T08:56:48.073658Z",
     "start_time": "2022-04-19T08:56:09.910978Z"
    }
   },
   "outputs": [],
   "source": [
    "# roe ttm\n",
    "for date in pd.date_range(\"2013-09-30\",\"2021-11-23\"):\n",
    "    if date not in trade_date.DATE.tolist():\n",
    "        continue\n",
    "    top_roe_group = actual_roe_ttm.loc[date].dropna().sort_values(ascending = False)\\\n",
    "    .iloc[:int((1/3)*len(actual_roe_ttm.loc[date].dropna()))].index\n",
    "    tail_roe_group = actual_roe_ttm.loc[date].dropna().sort_values(ascending = False)\\\n",
    "    .iloc[int((2/3)*len(actual_roe_ttm.loc[date].dropna())):].index\n",
    "    \n",
    "    top_roe_group = list(set(top_roe_group) & set(stk_log_return.columns))\n",
    "    tail_roe_group = list(set(tail_roe_group) & set(stk_log_return.columns))\n",
    "    \n",
    "    daily_r_roe = stk_log_return.loc[date,top_roe_group].mean() - stk_log_return.loc[date,tail_roe_group].mean()\n",
    "    factor_info.at[date,\"R_ROE\"] = daily_r_roe"
   ]
  },
  {
   "cell_type": "code",
   "execution_count": 21,
   "id": "31918857",
   "metadata": {
    "ExecuteTime": {
     "end_time": "2022-04-19T08:57:24.223263Z",
     "start_time": "2022-04-19T08:56:48.076658Z"
    }
   },
   "outputs": [],
   "source": [
    "# pb, also can bigger than zero\n",
    "for date in pd.date_range(\"2013-09-30\",\"2021-11-23\"):\n",
    "    if date not in trade_date.DATE.tolist():\n",
    "        continue\n",
    "    tail_pb_group = actual_pb.loc[date].dropna().sort_values(ascending = False)\\\n",
    "    .iloc[:int((1/3)*len(actual_pb.loc[date].dropna()))].index\n",
    "    top_pb_group = actual_pb.loc[date].dropna().sort_values(ascending = False)\\\n",
    "    .iloc[int((2/3)*len(actual_pb.loc[date].dropna())):].index\n",
    "    \n",
    "    top_pb_group = list(set(top_pb_group) & set(stk_log_return.columns))\n",
    "    tail_pb_group = list(set(tail_pb_group) & set(stk_log_return.columns))\n",
    "    \n",
    "    daily_r_pb = stk_log_return.loc[date,top_pb_group].mean() - stk_log_return.loc[date,tail_pb_group].mean()\n",
    "    factor_info.at[date,\"R_PB\"] = daily_r_pb"
   ]
  },
  {
   "cell_type": "code",
   "execution_count": 22,
   "id": "c0bdf2cc",
   "metadata": {
    "ExecuteTime": {
     "end_time": "2022-04-19T08:58:20.912276Z",
     "start_time": "2022-04-19T08:57:24.229253Z"
    }
   },
   "outputs": [],
   "source": [
    "# market value\n",
    "for date in pd.date_range(\"2013-09-30\",\"2021-11-23\"):\n",
    "    if date not in trade_date.DATE.tolist():\n",
    "        continue\n",
    "    tail_mkt_group = actual_mkt_value.loc[date].dropna().sort_values(ascending = False)\\\n",
    "    .iloc[:int((1/3)*len(actual_mkt_value.loc[date].dropna()))].index\n",
    "    top_mkt_group = actual_mkt_value.loc[date].dropna().sort_values(ascending = False)\\\n",
    "    .iloc[int((2/3)*len(actual_mkt_value.loc[date].dropna())):].index\n",
    "    \n",
    "    top_mkt_group = list(set(top_mkt_group) & set(stk_log_return.columns))\n",
    "    tail_mkt_group = list(set(tail_mkt_group) & set(stk_log_return.columns))\n",
    "    \n",
    "    daily_r_mkt = stk_log_return.loc[date,top_mkt_group].mean() - stk_log_return.loc[date,tail_mkt_group].mean()\n",
    "    factor_info.at[date,\"R_MKT\"] = daily_r_mkt"
   ]
  },
  {
   "cell_type": "code",
   "execution_count": 23,
   "id": "2cb888fa",
   "metadata": {
    "ExecuteTime": {
     "end_time": "2022-04-19T08:58:21.354374Z",
     "start_time": "2022-04-19T08:58:20.914243Z"
    }
   },
   "outputs": [],
   "source": [
    "factor_info.to_excel(\"./Data/SelfMadeFactor(33%pct).xlsx\")"
   ]
  }
 ],
 "metadata": {
  "kernelspec": {
   "display_name": "Python 3 (ipykernel)",
   "language": "python",
   "name": "python3"
  },
  "language_info": {
   "codemirror_mode": {
    "name": "ipython",
    "version": 3
   },
   "file_extension": ".py",
   "mimetype": "text/x-python",
   "name": "python",
   "nbconvert_exporter": "python",
   "pygments_lexer": "ipython3",
   "version": "3.9.7"
  }
 },
 "nbformat": 4,
 "nbformat_minor": 5
}
