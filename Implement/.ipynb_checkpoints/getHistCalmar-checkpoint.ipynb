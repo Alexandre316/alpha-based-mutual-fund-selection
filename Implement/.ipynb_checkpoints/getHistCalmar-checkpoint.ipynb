{
 "cells": [
  {
   "cell_type": "code",
   "execution_count": 2,
   "id": "19280fbd",
   "metadata": {
    "ExecuteTime": {
     "end_time": "2022-04-17T01:53:16.500757Z",
     "start_time": "2022-04-17T01:53:11.541373Z"
    }
   },
   "outputs": [
    {
     "name": "stderr",
     "output_type": "stream",
     "text": [
      "D:\\Anaconda\\lib\\site-packages\\statsmodels\\tsa\\base\\tsa_model.py:7: FutureWarning: pandas.Int64Index is deprecated and will be removed from pandas in a future version. Use pandas.Index with the appropriate dtype instead.\n",
      "  from pandas import (to_datetime, Int64Index, DatetimeIndex, Period,\n",
      "D:\\Anaconda\\lib\\site-packages\\statsmodels\\tsa\\base\\tsa_model.py:7: FutureWarning: pandas.Float64Index is deprecated and will be removed from pandas in a future version. Use pandas.Index with the appropriate dtype instead.\n",
      "  from pandas import (to_datetime, Int64Index, DatetimeIndex, Period,\n"
     ]
    }
   ],
   "source": [
    "import pandas as pd\n",
    "import numpy as np\n",
    "import alphalens\n",
    "import matplotlib.pyplot as plt\n",
    "import statsmodels.api as sm\n",
    "import matplotlib\n",
    "from dateutil.relativedelta import relativedelta\n",
    "import empyrical"
   ]
  },
  {
   "cell_type": "code",
   "execution_count": 3,
   "id": "e1323cb4",
   "metadata": {
    "ExecuteTime": {
     "end_time": "2022-04-17T01:53:16.510827Z",
     "start_time": "2022-04-17T01:53:16.500757Z"
    }
   },
   "outputs": [],
   "source": [
    "import warnings\n",
    "warnings.filterwarnings('ignore')"
   ]
  },
  {
   "cell_type": "code",
   "execution_count": 4,
   "id": "6312a009",
   "metadata": {
    "ExecuteTime": {
     "end_time": "2022-04-17T01:53:16.525436Z",
     "start_time": "2022-04-17T01:53:16.510827Z"
    }
   },
   "outputs": [],
   "source": [
    "import os\n",
    "os.chdir('../')"
   ]
  },
  {
   "cell_type": "code",
   "execution_count": 5,
   "id": "8923faca",
   "metadata": {
    "ExecuteTime": {
     "end_time": "2022-04-17T01:53:16.541307Z",
     "start_time": "2022-04-17T01:53:16.528320Z"
    }
   },
   "outputs": [],
   "source": [
    "matplotlib.rcParams['font.sans-serif'] = ['Times New Roman'] "
   ]
  },
  {
   "cell_type": "markdown",
   "id": "2e807ff1",
   "metadata": {},
   "source": [
    "#### 1.数据读取"
   ]
  },
  {
   "cell_type": "code",
   "execution_count": 6,
   "id": "49871c27",
   "metadata": {
    "ExecuteTime": {
     "end_time": "2022-04-17T01:53:38.899719Z",
     "start_time": "2022-04-17T01:53:16.544309Z"
    }
   },
   "outputs": [],
   "source": [
    "# 基金数据，并分类到股票型基金\n",
    "nv_2010to2014 = pd.read_csv(\"./Data/AdjustedNav(2010to2014).csv\",index_col = 0)\n",
    "nv_2015to2018 = pd.read_csv(\"./Data/AdjustedNav(2015to2018).csv\",index_col = 0)\n",
    "nv_2019to2022 = pd.read_csv(\"./Data/AdjustedNav(2019to2022).csv\",index_col = 0)"
   ]
  },
  {
   "cell_type": "code",
   "execution_count": 7,
   "id": "7efab646",
   "metadata": {
    "ExecuteTime": {
     "end_time": "2022-04-17T01:53:39.339885Z",
     "start_time": "2022-04-17T01:53:38.902736Z"
    }
   },
   "outputs": [],
   "source": [
    "nv = pd.concat([nv_2010to2014,nv_2015to2018,nv_2019to2022])"
   ]
  },
  {
   "cell_type": "code",
   "execution_count": 8,
   "id": "d5a1d218",
   "metadata": {
    "ExecuteTime": {
     "end_time": "2022-04-17T01:53:39.371567Z",
     "start_time": "2022-04-17T01:53:39.342885Z"
    }
   },
   "outputs": [],
   "source": [
    "nv.index = pd.to_datetime(nv.index)"
   ]
  },
  {
   "cell_type": "code",
   "execution_count": 9,
   "id": "d445ac22",
   "metadata": {
    "ExecuteTime": {
     "end_time": "2022-04-17T01:53:42.159172Z",
     "start_time": "2022-04-17T01:53:39.378569Z"
    }
   },
   "outputs": [],
   "source": [
    "filled_nv = nv.asfreq(\"D\").ffill()\n",
    "filled_nv_return = nv.pct_change(axis = 0)#简单收益率\n",
    "filled_nv_lr = np.log(filled_nv).diff(axis = 0)#对数收益率，log return"
   ]
  },
  {
   "cell_type": "code",
   "execution_count": 10,
   "id": "3d337871",
   "metadata": {
    "ExecuteTime": {
     "end_time": "2022-04-17T01:53:48.101129Z",
     "start_time": "2022-04-17T01:53:42.162136Z"
    }
   },
   "outputs": [],
   "source": [
    "#导入成立日期、基金规模、带股基金类型等限定数据\n",
    "stkfund_info = pd.read_excel('./Data/StkMutualFundInfo.xlsx',index_col = 0)\n",
    "stkfund_scale = pd.read_excel('./Data/StkMutualaFundScale.xlsx',index_col = 0)"
   ]
  },
  {
   "cell_type": "code",
   "execution_count": 11,
   "id": "31720377",
   "metadata": {
    "ExecuteTime": {
     "end_time": "2022-04-17T01:53:48.151559Z",
     "start_time": "2022-04-17T01:53:48.101129Z"
    }
   },
   "outputs": [],
   "source": [
    "# 月初月末表\n",
    "month_begin_end = pd.read_excel(\"./Data/MonthBeginEnd.xlsx\")"
   ]
  },
  {
   "cell_type": "code",
   "execution_count": 12,
   "id": "de6091c9",
   "metadata": {
    "ExecuteTime": {
     "end_time": "2022-04-17T01:53:48.354210Z",
     "start_time": "2022-04-17T01:53:48.155542Z"
    }
   },
   "outputs": [],
   "source": [
    "trade_date = pd.read_excel(\"./Data/TradeDate.xlsx\")"
   ]
  },
  {
   "cell_type": "code",
   "execution_count": 13,
   "id": "0f7d11de",
   "metadata": {
    "ExecuteTime": {
     "end_time": "2022-04-17T01:53:48.370341Z",
     "start_time": "2022-04-17T01:53:48.360225Z"
    }
   },
   "outputs": [],
   "source": [
    "start_date = pd.to_datetime(\"2013-12-31\")\n",
    "end_date = pd.to_datetime(\"2022-03-31\")"
   ]
  },
  {
   "cell_type": "code",
   "execution_count": 14,
   "id": "3f603040",
   "metadata": {
    "ExecuteTime": {
     "end_time": "2022-04-17T01:53:48.401371Z",
     "start_time": "2022-04-17T01:53:48.375225Z"
    }
   },
   "outputs": [],
   "source": [
    "# 导入因子数据\n",
    "factor_info = pd.read_csv(\"./Data/FactorInfo.csv\",index_col = 0)"
   ]
  },
  {
   "cell_type": "code",
   "execution_count": 15,
   "id": "0d5b0679",
   "metadata": {
    "ExecuteTime": {
     "end_time": "2022-04-17T01:53:48.432225Z",
     "start_time": "2022-04-17T01:53:48.404229Z"
    }
   },
   "outputs": [],
   "source": [
    "factor_info.index = pd.to_datetime(factor_info.index)\n",
    "filled_factor_info = factor_info.asfreq(\"D\").ffill()"
   ]
  },
  {
   "cell_type": "code",
   "execution_count": 16,
   "id": "ae93ce70",
   "metadata": {
    "ExecuteTime": {
     "end_time": "2022-04-17T01:53:48.462209Z",
     "start_time": "2022-04-17T01:53:48.436220Z"
    }
   },
   "outputs": [],
   "source": [
    "filled_factor_info[\"MONTH\"] = filled_factor_info.index.to_period('m')"
   ]
  },
  {
   "cell_type": "code",
   "execution_count": 17,
   "id": "37fec37c",
   "metadata": {
    "ExecuteTime": {
     "end_time": "2022-04-17T01:53:48.478208Z",
     "start_time": "2022-04-17T01:53:48.467230Z"
    }
   },
   "outputs": [],
   "source": [
    "filled_factor_info[\"DATE\"] = filled_factor_info.index"
   ]
  },
  {
   "cell_type": "code",
   "execution_count": 18,
   "id": "ffb1522f",
   "metadata": {
    "ExecuteTime": {
     "end_time": "2022-04-17T01:53:48.509229Z",
     "start_time": "2022-04-17T01:53:48.480211Z"
    }
   },
   "outputs": [],
   "source": [
    "backtest_month = filled_factor_info.groupby([\"MONTH\"]).last().DATE"
   ]
  },
  {
   "cell_type": "code",
   "execution_count": 19,
   "id": "4866e4e8",
   "metadata": {
    "ExecuteTime": {
     "end_time": "2022-04-17T01:53:49.184565Z",
     "start_time": "2022-04-17T01:53:48.515232Z"
    }
   },
   "outputs": [],
   "source": [
    "trade_filled_nv_lr = filled_nv_lr.loc[list(set(filled_nv_lr.index)&set(trade_date.DATE))].sort_index()"
   ]
  },
  {
   "cell_type": "code",
   "execution_count": 20,
   "id": "d5a5fa1b",
   "metadata": {
    "ExecuteTime": {
     "end_time": "2022-04-17T01:53:49.897602Z",
     "start_time": "2022-04-17T01:53:49.186529Z"
    }
   },
   "outputs": [],
   "source": [
    "trade_filled_nv_return = filled_nv_return.loc[list(set(filled_nv_return.index)&set(trade_date.DATE))].sort_index()"
   ]
  },
  {
   "cell_type": "markdown",
   "id": "663fc4e4",
   "metadata": {},
   "source": [
    "#### 2.循环获取Calmar比率"
   ]
  },
  {
   "cell_type": "code",
   "execution_count": 21,
   "id": "4e2d577c",
   "metadata": {
    "ExecuteTime": {
     "end_time": "2022-04-17T01:53:50.229569Z",
     "start_time": "2022-04-17T01:53:49.899528Z"
    }
   },
   "outputs": [],
   "source": [
    "calmar = pd.DataFrame(index = backtest_month,columns = nv.columns)"
   ]
  },
  {
   "cell_type": "code",
   "execution_count": 28,
   "id": "7553448f",
   "metadata": {
    "ExecuteTime": {
     "end_time": "2022-04-17T02:01:31.308030Z",
     "start_time": "2022-04-17T02:01:28.513660Z"
    }
   },
   "outputs": [
    {
     "name": "stdout",
     "output_type": "stream",
     "text": [
      "000011.OF,2013-12-31 00:00:00,0.1890165355710497,1.2535311533857754,0.0026065162549999688\n",
      "000021.OF,2013-12-31 00:00:00,0.010808187483329746,1.0168359961666655,-0.010078875809140686\n",
      "000031.OF,2013-12-31 00:00:00,0.048310656246898044,1.0849485892282278,-0.00235663786331497\n",
      "000041.OF,2013-12-31 00:00:00,0.0532621680985212,1.060679611650484,0.004854368932038833\n",
      "000071.OF,2013-12-31 00:00:00,0.15045316595773747,1.0300290000000012,0.0\n",
      "000075.OF,2013-12-31 00:00:00,0.38672043208268453,1.0710659898477168,0.0\n",
      "000076.OF,2013-12-31 00:00:00,0.38672043208268453,1.0710659898477168,0.0\n",
      "001001.OF,2013-12-31 00:00:00,0.5562031073082128,1.1271862712001401,-0.0009115717171016557\n",
      "001003.OF,2013-12-31 00:00:00,0.4830645647440032,1.115645998550323,0.0\n",
      "001011.OF,2013-12-31 00:00:00,0.4369626797820725,1.1011235387628224,-0.0008944545968992967\n",
      "001013.OF,2013-12-31 00:00:00,0.3722792824572745,1.0878749257011953,-0.0017985638662869619\n",
      "001021.OF,2013-12-31 00:00:00,0.2056327625539154,1.0318293233082683,0.0\n",
      "001023.OF,2013-12-31 00:00:00,0.13977896325634034,1.0217204022988506,0.0\n",
      "001061.OF,2013-12-31 00:00:00,0.6220644573381865,1.0598993775933625,0.0\n",
      "001063.OF,2013-12-31 00:00:00,0.5690905211209096,1.054902286902287,0.0\n",
      "001065.OF,2013-12-31 00:00:00,1.005589181581445,1.0936491963024537,0.0\n",
      "001066.OF,2013-12-31 00:00:00,1.005589181581445,1.0936491963024537,0.0\n",
      "002001.OF,2013-12-31 00:00:00,0.3237371977844384,1.22613958964141,-0.00855310183410396\n",
      "002021.OF,2013-12-31 00:00:00,0.308284722271568,1.2256672000228628,-0.008756567741842747\n",
      "002031.OF,2013-12-31 00:00:00,0.2922508364167373,1.3557833859095714,0.003154574132492094\n"
     ]
    },
    {
     "ename": "KeyboardInterrupt",
     "evalue": "",
     "output_type": "error",
     "traceback": [
      "\u001b[1;31m---------------------------------------------------------------------------\u001b[0m",
      "\u001b[1;31mKeyboardInterrupt\u001b[0m                         Traceback (most recent call last)",
      "Input \u001b[1;32mIn [28]\u001b[0m, in \u001b[0;36m<cell line: 1>\u001b[1;34m()\u001b[0m\n\u001b[0;32m      2\u001b[0m \u001b[38;5;28;01mfor\u001b[39;00m fund \u001b[38;5;129;01min\u001b[39;00m calmar\u001b[38;5;241m.\u001b[39mcolumns:\n\u001b[0;32m      3\u001b[0m     fund_nv_return \u001b[38;5;241m=\u001b[39m trade_filled_nv_return\u001b[38;5;241m.\u001b[39mloc[:month,fund]\n\u001b[1;32m----> 4\u001b[0m     \u001b[38;5;28;01mif\u001b[39;00m \u001b[38;5;28mlen\u001b[39m(\u001b[43mfund_nv_return\u001b[49m\u001b[38;5;241;43m.\u001b[39;49m\u001b[43mdropna\u001b[49m\u001b[43m(\u001b[49m\u001b[43m)\u001b[49m) \u001b[38;5;241m<\u001b[39m \u001b[38;5;241m252\u001b[39m:\n\u001b[0;32m      5\u001b[0m         \u001b[38;5;28;01mcontinue\u001b[39;00m\n\u001b[0;32m      6\u001b[0m     single_calmar \u001b[38;5;241m=\u001b[39m empyrical\u001b[38;5;241m.\u001b[39mcalmar_ratio(fund_nv_return\u001b[38;5;241m.\u001b[39mdropna(), period\u001b[38;5;241m=\u001b[39m\u001b[38;5;124m'\u001b[39m\u001b[38;5;124mdaily\u001b[39m\u001b[38;5;124m'\u001b[39m, annualization\u001b[38;5;241m=\u001b[39m\u001b[38;5;241m252\u001b[39m)\n",
      "File \u001b[1;32mD:\\Anaconda\\lib\\site-packages\\pandas\\util\\_decorators.py:311\u001b[0m, in \u001b[0;36mdeprecate_nonkeyword_arguments.<locals>.decorate.<locals>.wrapper\u001b[1;34m(*args, **kwargs)\u001b[0m\n\u001b[0;32m    305\u001b[0m \u001b[38;5;28;01mif\u001b[39;00m \u001b[38;5;28mlen\u001b[39m(args) \u001b[38;5;241m>\u001b[39m num_allow_args:\n\u001b[0;32m    306\u001b[0m     warnings\u001b[38;5;241m.\u001b[39mwarn(\n\u001b[0;32m    307\u001b[0m         msg\u001b[38;5;241m.\u001b[39mformat(arguments\u001b[38;5;241m=\u001b[39marguments),\n\u001b[0;32m    308\u001b[0m         \u001b[38;5;167;01mFutureWarning\u001b[39;00m,\n\u001b[0;32m    309\u001b[0m         stacklevel\u001b[38;5;241m=\u001b[39mstacklevel,\n\u001b[0;32m    310\u001b[0m     )\n\u001b[1;32m--> 311\u001b[0m \u001b[38;5;28;01mreturn\u001b[39;00m func(\u001b[38;5;241m*\u001b[39margs, \u001b[38;5;241m*\u001b[39m\u001b[38;5;241m*\u001b[39mkwargs)\n",
      "File \u001b[1;32mD:\\Anaconda\\lib\\site-packages\\pandas\\core\\series.py:5378\u001b[0m, in \u001b[0;36mSeries.dropna\u001b[1;34m(self, axis, inplace, how)\u001b[0m\n\u001b[0;32m   5375\u001b[0m \u001b[38;5;28mself\u001b[39m\u001b[38;5;241m.\u001b[39m_get_axis_number(axis \u001b[38;5;129;01mor\u001b[39;00m \u001b[38;5;241m0\u001b[39m)\n\u001b[0;32m   5377\u001b[0m \u001b[38;5;28;01mif\u001b[39;00m \u001b[38;5;28mself\u001b[39m\u001b[38;5;241m.\u001b[39m_can_hold_na:\n\u001b[1;32m-> 5378\u001b[0m     result \u001b[38;5;241m=\u001b[39m \u001b[43mremove_na_arraylike\u001b[49m\u001b[43m(\u001b[49m\u001b[38;5;28;43mself\u001b[39;49m\u001b[43m)\u001b[49m\n\u001b[0;32m   5379\u001b[0m     \u001b[38;5;28;01mif\u001b[39;00m inplace:\n\u001b[0;32m   5380\u001b[0m         \u001b[38;5;28mself\u001b[39m\u001b[38;5;241m.\u001b[39m_update_inplace(result)\n",
      "File \u001b[1;32mD:\\Anaconda\\lib\\site-packages\\pandas\\core\\dtypes\\missing.py:622\u001b[0m, in \u001b[0;36mremove_na_arraylike\u001b[1;34m(arr)\u001b[0m\n\u001b[0;32m    620\u001b[0m     \u001b[38;5;28;01mreturn\u001b[39;00m arr[notna(arr)]\n\u001b[0;32m    621\u001b[0m \u001b[38;5;28;01melse\u001b[39;00m:\n\u001b[1;32m--> 622\u001b[0m     \u001b[38;5;28;01mreturn\u001b[39;00m arr[\u001b[43mnotna\u001b[49m\u001b[43m(\u001b[49m\u001b[43mnp\u001b[49m\u001b[38;5;241;43m.\u001b[39;49m\u001b[43masarray\u001b[49m\u001b[43m(\u001b[49m\u001b[43marr\u001b[49m\u001b[43m)\u001b[49m\u001b[43m)\u001b[49m]\n",
      "File \u001b[1;32mD:\\Anaconda\\lib\\site-packages\\pandas\\core\\dtypes\\missing.py:367\u001b[0m, in \u001b[0;36mnotna\u001b[1;34m(obj)\u001b[0m\n\u001b[0;32m    365\u001b[0m \u001b[38;5;28;01mif\u001b[39;00m is_scalar(res):\n\u001b[0;32m    366\u001b[0m     \u001b[38;5;28;01mreturn\u001b[39;00m \u001b[38;5;129;01mnot\u001b[39;00m res\n\u001b[1;32m--> 367\u001b[0m \u001b[38;5;28;01mreturn\u001b[39;00m \u001b[38;5;241;43m~\u001b[39;49m\u001b[43mres\u001b[49m\n",
      "\u001b[1;31mKeyboardInterrupt\u001b[0m: "
     ]
    }
   ],
   "source": [
    "for month in backtest_month[backtest_month >= start_date]:\n",
    "    for fund in calmar.columns:\n",
    "        fund_nv_return = trade_filled_nv_return.loc[:month,fund]\n",
    "        if len(fund_nv_return.dropna()) < 252:\n",
    "            continue\n",
    "        single_calmar = empyrical.calmar_ratio(fund_nv_return.dropna(), period = 'daily', annualization = 252)\n",
    "        if single_calmar>0:\n",
    "            print(f\"{fund},{month},{single_calmar},{(fund_nv_return.dropna()+1).cumprod().iloc[-1]}\")"
   ]
  },
  {
   "cell_type": "code",
   "execution_count": null,
   "id": "c2f0db79",
   "metadata": {},
   "outputs": [],
   "source": []
  }
 ],
 "metadata": {
  "kernelspec": {
   "display_name": "Python 3 (ipykernel)",
   "language": "python",
   "name": "python3"
  },
  "language_info": {
   "codemirror_mode": {
    "name": "ipython",
    "version": 3
   },
   "file_extension": ".py",
   "mimetype": "text/x-python",
   "name": "python",
   "nbconvert_exporter": "python",
   "pygments_lexer": "ipython3",
   "version": "3.9.7"
  }
 },
 "nbformat": 4,
 "nbformat_minor": 5
}
