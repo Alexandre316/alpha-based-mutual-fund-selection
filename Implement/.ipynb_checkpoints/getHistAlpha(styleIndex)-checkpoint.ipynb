{
 "cells": [
  {
   "cell_type": "code",
   "execution_count": 1,
   "metadata": {
    "ExecuteTime": {
     "end_time": "2022-04-18T07:47:36.500477Z",
     "start_time": "2022-04-18T07:47:32.584451Z"
    }
   },
   "outputs": [
    {
     "name": "stderr",
     "output_type": "stream",
     "text": [
      "D:\\Anaconda\\lib\\site-packages\\statsmodels\\tsa\\base\\tsa_model.py:7: FutureWarning: pandas.Int64Index is deprecated and will be removed from pandas in a future version. Use pandas.Index with the appropriate dtype instead.\n",
      "  from pandas import (to_datetime, Int64Index, DatetimeIndex, Period,\n",
      "D:\\Anaconda\\lib\\site-packages\\statsmodels\\tsa\\base\\tsa_model.py:7: FutureWarning: pandas.Float64Index is deprecated and will be removed from pandas in a future version. Use pandas.Index with the appropriate dtype instead.\n",
      "  from pandas import (to_datetime, Int64Index, DatetimeIndex, Period,\n"
     ]
    }
   ],
   "source": [
    "import pandas as pd\n",
    "import numpy as np\n",
    "import alphalens\n",
    "import matplotlib.pyplot as plt\n",
    "import statsmodels.api as sm\n",
    "import matplotlib\n",
    "from dateutil.relativedelta import relativedelta"
   ]
  },
  {
   "cell_type": "code",
   "execution_count": 2,
   "metadata": {
    "ExecuteTime": {
     "end_time": "2022-04-18T07:47:36.515482Z",
     "start_time": "2022-04-18T07:47:36.504451Z"
    }
   },
   "outputs": [],
   "source": [
    "import warnings\n",
    "warnings.filterwarnings('ignore')"
   ]
  },
  {
   "cell_type": "code",
   "execution_count": 3,
   "metadata": {
    "ExecuteTime": {
     "end_time": "2022-04-18T07:47:36.530454Z",
     "start_time": "2022-04-18T07:47:36.518449Z"
    }
   },
   "outputs": [],
   "source": [
    "import os\n",
    "os.chdir('../')"
   ]
  },
  {
   "cell_type": "code",
   "execution_count": 4,
   "metadata": {
    "ExecuteTime": {
     "end_time": "2022-04-18T07:47:36.545453Z",
     "start_time": "2022-04-18T07:47:36.535462Z"
    }
   },
   "outputs": [],
   "source": [
    "matplotlib.rcParams['font.sans-serif'] = ['Times New Roman'] "
   ]
  },
  {
   "cell_type": "markdown",
   "metadata": {},
   "source": [
    "#### 1.数据读取"
   ]
  },
  {
   "cell_type": "markdown",
   "metadata": {},
   "source": [
    "##### (1)规范化净值数据"
   ]
  },
  {
   "cell_type": "code",
   "execution_count": 5,
   "metadata": {
    "ExecuteTime": {
     "end_time": "2022-04-18T07:47:37.906447Z",
     "start_time": "2022-04-18T07:47:36.548455Z"
    }
   },
   "outputs": [],
   "source": [
    "trade_date = pd.read_excel(\"./Data/TradeDate.xlsx\") # 交易日数据\n",
    "month_begin_end = pd.read_excel(\"./Data/MonthBeginEnd.xlsx\") # 月初月末表\n",
    "start_date = pd.to_datetime(\"2013-12-31\") # 限定因子获取的起止时间\n",
    "end_date = pd.to_datetime(\"2022-03-31\")"
   ]
  },
  {
   "cell_type": "code",
   "execution_count": 6,
   "metadata": {
    "ExecuteTime": {
     "end_time": "2022-04-18T07:48:15.850768Z",
     "start_time": "2022-04-18T07:47:37.911451Z"
    }
   },
   "outputs": [],
   "source": [
    "# 基金数据，并分类到股票型基金\n",
    "nv_2010to2014 = pd.read_csv(\"./Data/AdjustedNav(2010to2014).csv\",index_col = 0)\n",
    "nv_2015to2018 = pd.read_csv(\"./Data/AdjustedNav(2015to2018).csv\",index_col = 0)\n",
    "nv_2019to2022 = pd.read_csv(\"./Data/AdjustedNav(2019to2022).csv\",index_col = 0)"
   ]
  },
  {
   "cell_type": "code",
   "execution_count": 7,
   "metadata": {
    "ExecuteTime": {
     "end_time": "2022-04-18T07:48:16.225786Z",
     "start_time": "2022-04-18T07:48:15.853769Z"
    }
   },
   "outputs": [],
   "source": [
    "nv = pd.concat([nv_2010to2014,nv_2015to2018,nv_2019to2022])\n",
    "nv.index = pd.to_datetime(nv.index)"
   ]
  },
  {
   "cell_type": "code",
   "execution_count": 8,
   "metadata": {
    "ExecuteTime": {
     "end_time": "2022-04-18T07:48:16.474769Z",
     "start_time": "2022-04-18T07:48:16.229785Z"
    }
   },
   "outputs": [],
   "source": [
    "trade_nv = nv.loc[trade_date.query(\"DATE >= '{}' and DATE <='{}'\".format('2009-12-31','2022-04-12')).DATE]"
   ]
  },
  {
   "cell_type": "code",
   "execution_count": 9,
   "metadata": {
    "ExecuteTime": {
     "end_time": "2022-04-18T07:48:17.217770Z",
     "start_time": "2022-04-18T07:48:16.477791Z"
    }
   },
   "outputs": [],
   "source": [
    "trade_nv_log_return = np.log(trade_nv).diff(axis = 0)"
   ]
  },
  {
   "cell_type": "markdown",
   "metadata": {},
   "source": [
    "##### (2)导入净值数据"
   ]
  },
  {
   "cell_type": "code",
   "execution_count": 10,
   "metadata": {
    "ExecuteTime": {
     "end_time": "2022-04-18T07:48:17.977766Z",
     "start_time": "2022-04-18T07:48:17.222768Z"
    }
   },
   "outputs": [],
   "source": [
    "# 导入因子数据\n",
    "factor_info = pd.read_excel(\"./Data/StyleIndex.xlsx\",index_col = 0)\n",
    "factor_info.index = pd.to_datetime(factor_info.index)"
   ]
  },
  {
   "cell_type": "code",
   "execution_count": 11,
   "metadata": {
    "ExecuteTime": {
     "end_time": "2022-04-18T07:48:18.009769Z",
     "start_time": "2022-04-18T07:48:17.981772Z"
    }
   },
   "outputs": [],
   "source": [
    "filled_factor_info = factor_info.asfreq(\"D\").ffill()"
   ]
  },
  {
   "cell_type": "code",
   "execution_count": 12,
   "metadata": {
    "ExecuteTime": {
     "end_time": "2022-04-18T07:48:18.041766Z",
     "start_time": "2022-04-18T07:48:18.013776Z"
    }
   },
   "outputs": [],
   "source": [
    "trade_factor = factor_info.loc[trade_date.query(\"DATE >= '{}' and DATE <='{}'\".format('2009-12-31','2022-04-12')).DATE]"
   ]
  },
  {
   "cell_type": "code",
   "execution_count": 13,
   "metadata": {
    "ExecuteTime": {
     "end_time": "2022-04-18T07:48:18.057763Z",
     "start_time": "2022-04-18T07:48:18.044785Z"
    }
   },
   "outputs": [],
   "source": [
    "trade_factor_log_return = np.log(trade_factor).diff(axis = 0)"
   ]
  },
  {
   "cell_type": "markdown",
   "metadata": {},
   "source": [
    "##### (3)导入基金类型数据"
   ]
  },
  {
   "cell_type": "code",
   "execution_count": 14,
   "metadata": {
    "ExecuteTime": {
     "end_time": "2022-04-18T07:48:25.464765Z",
     "start_time": "2022-04-18T07:48:18.060766Z"
    }
   },
   "outputs": [],
   "source": [
    "#导入成立日期、基金规模、带股基金类型等限定数据\n",
    "stkfund_info = pd.read_excel('./Data/StkMutualFundInfo.xlsx',index_col = 0)\n",
    "stkfund_scale = pd.read_excel('./Data/StkMutualaFundScale.xlsx',index_col = 0)"
   ]
  },
  {
   "cell_type": "markdown",
   "metadata": {},
   "source": [
    "#### 2.获取基金每个季度的alpha因子"
   ]
  },
  {
   "cell_type": "code",
   "execution_count": 15,
   "metadata": {
    "ExecuteTime": {
     "end_time": "2022-04-18T07:48:25.480764Z",
     "start_time": "2022-04-18T07:48:25.467766Z"
    }
   },
   "outputs": [],
   "source": [
    "filled_factor_info[\"MONTH\"] = filled_factor_info.index.to_period('m')\n",
    "filled_factor_info[\"DATE\"] = filled_factor_info.index"
   ]
  },
  {
   "cell_type": "code",
   "execution_count": 16,
   "metadata": {
    "ExecuteTime": {
     "end_time": "2022-04-18T07:48:25.496765Z",
     "start_time": "2022-04-18T07:48:25.483769Z"
    }
   },
   "outputs": [],
   "source": [
    "backtest_month = filled_factor_info.groupby([\"MONTH\"]).last().DATE"
   ]
  },
  {
   "cell_type": "code",
   "execution_count": 17,
   "metadata": {
    "ExecuteTime": {
     "end_time": "2022-04-18T07:48:25.874765Z",
     "start_time": "2022-04-18T07:48:25.499764Z"
    }
   },
   "outputs": [],
   "source": [
    "alpha = pd.DataFrame(index = backtest_month,columns = nv.columns)"
   ]
  },
  {
   "cell_type": "code",
   "execution_count": 18,
   "metadata": {
    "ExecuteTime": {
     "end_time": "2022-04-18T07:48:25.905762Z",
     "start_time": "2022-04-18T07:48:25.880766Z"
    }
   },
   "outputs": [],
   "source": [
    "stkfund_list = stkfund_info.query(\"IS_INITIAL == '是' and IS_FOF == '否'\").index.tolist()"
   ]
  },
  {
   "cell_type": "code",
   "execution_count": 19,
   "metadata": {
    "ExecuteTime": {
     "end_time": "2022-04-18T08:15:17.284349Z",
     "start_time": "2022-04-18T07:48:25.907764Z"
    },
    "collapsed": true
   },
   "outputs": [
    {
     "name": "stdout",
     "output_type": "stream",
     "text": [
      "2013-12-31 00:00:00 2013-09-30 00:00:00\n",
      "2014-01-31 00:00:00 2013-10-31 00:00:00\n",
      "2014-02-28 00:00:00 2013-11-28 00:00:00\n",
      "2014-03-31 00:00:00 2013-12-31 00:00:00\n",
      "2014-04-30 00:00:00 2014-01-30 00:00:00\n",
      "2014-05-31 00:00:00 2014-02-28 00:00:00\n",
      "2014-06-30 00:00:00 2014-03-30 00:00:00\n",
      "2014-07-31 00:00:00 2014-04-30 00:00:00\n",
      "2014-08-31 00:00:00 2014-05-31 00:00:00\n",
      "2014-09-30 00:00:00 2014-06-30 00:00:00\n",
      "2014-10-31 00:00:00 2014-07-31 00:00:00\n",
      "2014-11-30 00:00:00 2014-08-30 00:00:00\n",
      "2014-12-31 00:00:00 2014-09-30 00:00:00\n",
      "2015-01-31 00:00:00 2014-10-31 00:00:00\n",
      "2015-02-28 00:00:00 2014-11-28 00:00:00\n",
      "2015-03-31 00:00:00 2014-12-31 00:00:00\n",
      "2015-04-30 00:00:00 2015-01-30 00:00:00\n",
      "2015-05-31 00:00:00 2015-02-28 00:00:00\n",
      "2015-06-30 00:00:00 2015-03-30 00:00:00\n",
      "2015-07-31 00:00:00 2015-04-30 00:00:00\n",
      "2015-08-31 00:00:00 2015-05-31 00:00:00\n",
      "2015-09-30 00:00:00 2015-06-30 00:00:00\n",
      "2015-10-31 00:00:00 2015-07-31 00:00:00\n",
      "2015-11-30 00:00:00 2015-08-30 00:00:00\n",
      "2015-12-31 00:00:00 2015-09-30 00:00:00\n",
      "2016-01-31 00:00:00 2015-10-31 00:00:00\n",
      "2016-02-29 00:00:00 2015-11-29 00:00:00\n",
      "2016-03-31 00:00:00 2015-12-31 00:00:00\n",
      "2016-04-30 00:00:00 2016-01-30 00:00:00\n",
      "2016-05-31 00:00:00 2016-02-29 00:00:00\n",
      "2016-06-30 00:00:00 2016-03-30 00:00:00\n",
      "2016-07-31 00:00:00 2016-04-30 00:00:00\n",
      "2016-08-31 00:00:00 2016-05-31 00:00:00\n",
      "2016-09-30 00:00:00 2016-06-30 00:00:00\n",
      "2016-10-31 00:00:00 2016-07-31 00:00:00\n",
      "2016-11-30 00:00:00 2016-08-30 00:00:00\n",
      "2016-12-31 00:00:00 2016-09-30 00:00:00\n",
      "2017-01-31 00:00:00 2016-10-31 00:00:00\n",
      "2017-02-28 00:00:00 2016-11-28 00:00:00\n",
      "2017-03-31 00:00:00 2016-12-31 00:00:00\n",
      "2017-04-30 00:00:00 2017-01-30 00:00:00\n",
      "2017-05-31 00:00:00 2017-02-28 00:00:00\n",
      "2017-06-30 00:00:00 2017-03-30 00:00:00\n",
      "2017-07-31 00:00:00 2017-04-30 00:00:00\n",
      "2017-08-31 00:00:00 2017-05-31 00:00:00\n",
      "2017-09-30 00:00:00 2017-06-30 00:00:00\n",
      "2017-10-31 00:00:00 2017-07-31 00:00:00\n",
      "2017-11-30 00:00:00 2017-08-30 00:00:00\n",
      "2017-12-31 00:00:00 2017-09-30 00:00:00\n",
      "2018-01-31 00:00:00 2017-10-31 00:00:00\n",
      "2018-02-28 00:00:00 2017-11-28 00:00:00\n",
      "2018-03-31 00:00:00 2017-12-31 00:00:00\n",
      "2018-04-30 00:00:00 2018-01-30 00:00:00\n",
      "2018-05-31 00:00:00 2018-02-28 00:00:00\n",
      "2018-06-30 00:00:00 2018-03-30 00:00:00\n",
      "2018-07-31 00:00:00 2018-04-30 00:00:00\n",
      "2018-08-31 00:00:00 2018-05-31 00:00:00\n",
      "2018-09-30 00:00:00 2018-06-30 00:00:00\n",
      "2018-10-31 00:00:00 2018-07-31 00:00:00\n",
      "2018-11-30 00:00:00 2018-08-30 00:00:00\n",
      "2018-12-31 00:00:00 2018-09-30 00:00:00\n",
      "2019-01-31 00:00:00 2018-10-31 00:00:00\n",
      "2019-02-28 00:00:00 2018-11-28 00:00:00\n",
      "2019-03-31 00:00:00 2018-12-31 00:00:00\n",
      "2019-04-30 00:00:00 2019-01-30 00:00:00\n",
      "2019-05-31 00:00:00 2019-02-28 00:00:00\n",
      "2019-06-30 00:00:00 2019-03-30 00:00:00\n",
      "2019-07-31 00:00:00 2019-04-30 00:00:00\n",
      "2019-08-31 00:00:00 2019-05-31 00:00:00\n",
      "2019-09-30 00:00:00 2019-06-30 00:00:00\n",
      "2019-10-31 00:00:00 2019-07-31 00:00:00\n",
      "2019-11-30 00:00:00 2019-08-30 00:00:00\n",
      "2019-12-31 00:00:00 2019-09-30 00:00:00\n",
      "2020-01-31 00:00:00 2019-10-31 00:00:00\n",
      "2020-02-29 00:00:00 2019-11-29 00:00:00\n",
      "2020-03-31 00:00:00 2019-12-31 00:00:00\n",
      "2020-04-30 00:00:00 2020-01-30 00:00:00\n",
      "2020-05-31 00:00:00 2020-02-29 00:00:00\n",
      "2020-06-30 00:00:00 2020-03-30 00:00:00\n",
      "2020-07-31 00:00:00 2020-04-30 00:00:00\n",
      "2020-08-31 00:00:00 2020-05-31 00:00:00\n",
      "2020-09-30 00:00:00 2020-06-30 00:00:00\n",
      "2020-10-31 00:00:00 2020-07-31 00:00:00\n",
      "2020-11-30 00:00:00 2020-08-30 00:00:00\n",
      "2020-12-31 00:00:00 2020-09-30 00:00:00\n",
      "2021-01-31 00:00:00 2020-10-31 00:00:00\n",
      "2021-02-28 00:00:00 2020-11-28 00:00:00\n",
      "2021-03-31 00:00:00 2020-12-31 00:00:00\n",
      "2021-04-30 00:00:00 2021-01-30 00:00:00\n",
      "2021-05-31 00:00:00 2021-02-28 00:00:00\n",
      "2021-06-30 00:00:00 2021-03-30 00:00:00\n",
      "2021-07-31 00:00:00 2021-04-30 00:00:00\n",
      "2021-08-31 00:00:00 2021-05-31 00:00:00\n",
      "2021-09-30 00:00:00 2021-06-30 00:00:00\n",
      "2021-10-31 00:00:00 2021-07-31 00:00:00\n",
      "2021-11-30 00:00:00 2021-08-30 00:00:00\n",
      "2021-12-31 00:00:00 2021-09-30 00:00:00\n",
      "2022-01-31 00:00:00 2021-10-31 00:00:00\n",
      "2022-02-28 00:00:00 2021-11-28 00:00:00\n",
      "2022-03-31 00:00:00 2021-12-31 00:00:00\n",
      "2022-04-15 00:00:00 2022-01-15 00:00:00\n"
     ]
    }
   ],
   "source": [
    "for month in backtest_month[backtest_month >= start_date]:\n",
    "    print(month,month - relativedelta(months = 3)) # backtest season start and end\n",
    "    for fund in trade_nv_log_return.columns: # mutual fund with stock heavyweight\n",
    "        if fund not in stkfund_list:\n",
    "            continue\n",
    "        tmp_return = trade_nv_log_return.loc[month - relativedelta(months = 3):month,fund] # last season \n",
    "        tmp_return.dropna(inplace = True)\n",
    "        if len(tmp_return) < 45: # not enough to fit \n",
    "            continue\n",
    "        tmp_factor = trade_factor_log_return.loc[tmp_return.index] # align data\n",
    "        tmp_factor = sm.add_constant(tmp_factor) \n",
    "\n",
    "        # paramaters estimation\n",
    "        est = sm.OLS(tmp_return,tmp_factor) # factor model fit\n",
    "        est = est.fit()\n",
    "        tmp_alpha = est.params.const # alpha\n",
    "        tmp_pvalue = est.pvalues.const # p-value\n",
    "#         if tmp_pvalue<=0.05 and tmp_alpha > 0:\n",
    "#             alpha.at[month,fund] = tmp_alpha # store alpha, if and only if significant and bigger than zero            \n",
    "#             print(f\"{month},{fund},{tmp_alpha},{tmp_pvalue<=0.05} finished\") # significant at 90% level\n",
    "        alpha.at[month,fund] = tmp_alpha"
   ]
  },
  {
   "cell_type": "code",
   "execution_count": 20,
   "metadata": {
    "ExecuteTime": {
     "end_time": "2022-04-18T08:15:19.564121Z",
     "start_time": "2022-04-18T08:15:17.287146Z"
    }
   },
   "outputs": [],
   "source": [
    "alpha.to_csv(\"./Output/alpha_style_index(all).csv\")"
   ]
  }
 ],
 "metadata": {
  "kernelspec": {
   "display_name": "Python 3 (ipykernel)",
   "language": "python",
   "name": "python3"
  },
  "language_info": {
   "codemirror_mode": {
    "name": "ipython",
    "version": 3
   },
   "file_extension": ".py",
   "mimetype": "text/x-python",
   "name": "python",
   "nbconvert_exporter": "python",
   "pygments_lexer": "ipython3",
   "version": "3.9.7"
  }
 },
 "nbformat": 4,
 "nbformat_minor": 4
}
