{
 "cells": [
  {
   "cell_type": "code",
   "execution_count": 1,
   "metadata": {
    "ExecuteTime": {
     "end_time": "2022-04-19T09:11:43.410593Z",
     "start_time": "2022-04-19T09:11:40.161570Z"
    }
   },
   "outputs": [
    {
     "name": "stderr",
     "output_type": "stream",
     "text": [
      "D:\\Anaconda\\lib\\site-packages\\statsmodels\\tsa\\base\\tsa_model.py:7: FutureWarning: pandas.Int64Index is deprecated and will be removed from pandas in a future version. Use pandas.Index with the appropriate dtype instead.\n",
      "  from pandas import (to_datetime, Int64Index, DatetimeIndex, Period,\n",
      "D:\\Anaconda\\lib\\site-packages\\statsmodels\\tsa\\base\\tsa_model.py:7: FutureWarning: pandas.Float64Index is deprecated and will be removed from pandas in a future version. Use pandas.Index with the appropriate dtype instead.\n",
      "  from pandas import (to_datetime, Int64Index, DatetimeIndex, Period,\n"
     ]
    }
   ],
   "source": [
    "import pandas as pd\n",
    "import numpy as np\n",
    "import alphalens\n",
    "import matplotlib.pyplot as plt\n",
    "import statsmodels.api as sm\n",
    "import matplotlib\n",
    "from dateutil.relativedelta import relativedelta"
   ]
  },
  {
   "cell_type": "code",
   "execution_count": 2,
   "metadata": {
    "ExecuteTime": {
     "end_time": "2022-04-19T09:11:43.426586Z",
     "start_time": "2022-04-19T09:11:43.413559Z"
    }
   },
   "outputs": [],
   "source": [
    "import warnings\n",
    "warnings.filterwarnings('ignore')"
   ]
  },
  {
   "cell_type": "code",
   "execution_count": 3,
   "metadata": {
    "ExecuteTime": {
     "end_time": "2022-04-19T09:11:43.442562Z",
     "start_time": "2022-04-19T09:11:43.428561Z"
    }
   },
   "outputs": [],
   "source": [
    "import os\n",
    "os.chdir('../')"
   ]
  },
  {
   "cell_type": "code",
   "execution_count": 4,
   "metadata": {
    "ExecuteTime": {
     "end_time": "2022-04-19T09:11:43.458592Z",
     "start_time": "2022-04-19T09:11:43.445562Z"
    }
   },
   "outputs": [],
   "source": [
    "matplotlib.rcParams['font.sans-serif'] = ['Times New Roman']"
   ]
  },
  {
   "cell_type": "markdown",
   "metadata": {},
   "source": [
    "#### 1.数据读取"
   ]
  },
  {
   "cell_type": "markdown",
   "metadata": {},
   "source": [
    "##### (1)规范化净值数据"
   ]
  },
  {
   "cell_type": "code",
   "execution_count": 5,
   "metadata": {
    "ExecuteTime": {
     "end_time": "2022-04-19T09:11:44.490572Z",
     "start_time": "2022-04-19T09:11:43.460560Z"
    }
   },
   "outputs": [],
   "source": [
    "trade_date = pd.read_excel(\"./Data/TradeDate.xlsx\") # 交易日数据\n",
    "month_begin_end = pd.read_excel(\"./Data/MonthBeginEnd.xlsx\") # 月初月末表\n",
    "start_date = pd.to_datetime(\"2013-12-31\") # 限定因子获取的起止时间\n",
    "end_date = pd.to_datetime(\"2021-11-23\")"
   ]
  },
  {
   "cell_type": "code",
   "execution_count": 6,
   "metadata": {
    "ExecuteTime": {
     "end_time": "2022-04-19T09:12:10.951860Z",
     "start_time": "2022-04-19T09:11:44.493559Z"
    }
   },
   "outputs": [],
   "source": [
    "# 基金数据，并分类到股票型基金\n",
    "nv_2010to2014 = pd.read_csv(\"./Data/AdjustedNav(2010to2014).csv\",index_col = 0)\n",
    "nv_2015to2018 = pd.read_csv(\"./Data/AdjustedNav(2015to2018).csv\",index_col = 0)\n",
    "nv_2019to2022 = pd.read_csv(\"./Data/AdjustedNav(2019to2022).csv\",index_col = 0)"
   ]
  },
  {
   "cell_type": "code",
   "execution_count": 7,
   "metadata": {
    "ExecuteTime": {
     "end_time": "2022-04-19T09:12:11.332805Z",
     "start_time": "2022-04-19T09:12:10.954745Z"
    }
   },
   "outputs": [],
   "source": [
    "nv = pd.concat([nv_2010to2014,nv_2015to2018,nv_2019to2022])\n",
    "nv.index = pd.to_datetime(nv.index)"
   ]
  },
  {
   "cell_type": "code",
   "execution_count": 8,
   "metadata": {
    "ExecuteTime": {
     "end_time": "2022-04-19T09:12:11.539766Z",
     "start_time": "2022-04-19T09:12:11.334729Z"
    }
   },
   "outputs": [],
   "source": [
    "trade_nv = nv.loc[trade_date.query(\"DATE >= '{}' and DATE <='{}'\".format('2009-12-31','2021-11-23')).DATE]"
   ]
  },
  {
   "cell_type": "code",
   "execution_count": 9,
   "metadata": {
    "ExecuteTime": {
     "end_time": "2022-04-19T09:12:12.202860Z",
     "start_time": "2022-04-19T09:12:11.542741Z"
    }
   },
   "outputs": [],
   "source": [
    "filled_nv = nv.ffill()\n",
    "filled_trade_nv = filled_nv.loc[trade_date.query(\"DATE >= '{}' and DATE <='{}'\".format('2009-12-31','2021-11-23')).DATE]"
   ]
  },
  {
   "cell_type": "code",
   "execution_count": 10,
   "metadata": {
    "ExecuteTime": {
     "end_time": "2022-04-19T09:12:14.237891Z",
     "start_time": "2022-04-19T09:12:12.207731Z"
    }
   },
   "outputs": [],
   "source": [
    "trade_nv_daily_return = trade_nv.pct_change()\n",
    "trade_nv_log_return = np.log(trade_nv).diff()\n",
    "filled_trade_nv_log_return = np.log(filled_trade_nv).diff()"
   ]
  },
  {
   "cell_type": "markdown",
   "metadata": {},
   "source": [
    "##### (2)因子数据"
   ]
  },
  {
   "cell_type": "code",
   "execution_count": 11,
   "metadata": {
    "ExecuteTime": {
     "end_time": "2022-04-19T09:12:14.490736Z",
     "start_time": "2022-04-19T09:12:14.241733Z"
    }
   },
   "outputs": [],
   "source": [
    "# 导入因子数据\n",
    "factor_info = pd.read_excel(\"./Data/SelfMadeFactor(33%pct).xlsx\",index_col = 0)"
   ]
  },
  {
   "cell_type": "code",
   "execution_count": 12,
   "metadata": {
    "ExecuteTime": {
     "end_time": "2022-04-19T09:12:14.522740Z",
     "start_time": "2022-04-19T09:12:14.495731Z"
    }
   },
   "outputs": [],
   "source": [
    "factor_info.index = pd.to_datetime(factor_info.index)\n",
    "filled_factor_info = factor_info.dropna().asfreq(\"D\").ffill()"
   ]
  },
  {
   "cell_type": "code",
   "execution_count": 13,
   "metadata": {
    "ExecuteTime": {
     "end_time": "2022-04-19T09:12:14.554732Z",
     "start_time": "2022-04-19T09:12:14.529735Z"
    }
   },
   "outputs": [],
   "source": [
    "filled_factor_info[\"MONTH\"] = filled_factor_info.index.to_period('m')"
   ]
  },
  {
   "cell_type": "code",
   "execution_count": 14,
   "metadata": {
    "ExecuteTime": {
     "end_time": "2022-04-19T09:12:14.586745Z",
     "start_time": "2022-04-19T09:12:14.560746Z"
    }
   },
   "outputs": [],
   "source": [
    "filled_factor_info[\"DATE\"] = filled_factor_info.index"
   ]
  },
  {
   "cell_type": "code",
   "execution_count": 15,
   "metadata": {
    "ExecuteTime": {
     "end_time": "2022-04-19T09:12:14.618731Z",
     "start_time": "2022-04-19T09:12:14.589732Z"
    }
   },
   "outputs": [],
   "source": [
    "backtest_month = filled_factor_info.groupby([\"MONTH\"]).last().DATE"
   ]
  },
  {
   "cell_type": "code",
   "execution_count": 16,
   "metadata": {
    "ExecuteTime": {
     "end_time": "2022-04-19T09:12:19.977730Z",
     "start_time": "2022-04-19T09:12:14.621754Z"
    }
   },
   "outputs": [],
   "source": [
    "#导入成立日期、基金规模、带股基金类型等限定数据\n",
    "stkfund_info = pd.read_excel('./Data/StkMutualFundInfo.xlsx',index_col = 0)\n",
    "stkfund_scale = pd.read_excel('./Data/StkMutualaFundScale.xlsx',index_col = 0)"
   ]
  },
  {
   "cell_type": "markdown",
   "metadata": {},
   "source": [
    "##### (3)市场收益率数据"
   ]
  },
  {
   "cell_type": "code",
   "execution_count": 17,
   "metadata": {
    "ExecuteTime": {
     "end_time": "2022-04-19T09:12:20.564855Z",
     "start_time": "2022-04-19T09:12:19.979730Z"
    }
   },
   "outputs": [],
   "source": [
    "# 市场收益率\n",
    "rm_stk_port = pd.read_excel(\"./Data/StkMutualFundIndex.xlsx\",index_col = \"date\")\n",
    "\n",
    "filled_rm_stk_port = rm_stk_port.asfreq(\"D\").ffill()\n",
    "filled_rm_stk_lr = np.log(filled_rm_stk_port).diff() # 对数的偏股型基金指数收益率\n",
    "\n",
    "rm_stk_daily_return = rm_stk_port.pct_change() # 股票型基金指数的市场收益率\n",
    "rm_stk_log_return = np.log(rm_stk_port).diff()"
   ]
  },
  {
   "cell_type": "markdown",
   "metadata": {},
   "source": [
    "#### 2.获取Alpha因子"
   ]
  },
  {
   "cell_type": "code",
   "execution_count": 18,
   "metadata": {
    "ExecuteTime": {
     "end_time": "2022-04-19T09:12:20.595730Z",
     "start_time": "2022-04-19T09:12:20.566736Z"
    }
   },
   "outputs": [],
   "source": [
    "concat_factor = pd.concat([factor_info,rm_stk_log_return],axis = 1).dropna()"
   ]
  },
  {
   "cell_type": "code",
   "execution_count": 19,
   "metadata": {
    "ExecuteTime": {
     "end_time": "2022-04-19T09:12:20.815736Z",
     "start_time": "2022-04-19T09:12:20.598733Z"
    }
   },
   "outputs": [],
   "source": [
    "alpha_log_return = pd.DataFrame(index = backtest_month,columns = nv.columns)"
   ]
  },
  {
   "cell_type": "code",
   "execution_count": 20,
   "metadata": {
    "ExecuteTime": {
     "end_time": "2022-04-19T10:03:01.958834Z",
     "start_time": "2022-04-19T09:12:20.819732Z"
    },
    "collapsed": true
   },
   "outputs": [
    {
     "name": "stdout",
     "output_type": "stream",
     "text": [
      "2013-09-30 00:00:00 2013-12-31 00:00:00\n",
      "2013-10-31 00:00:00 2014-01-31 00:00:00\n",
      "2013-11-28 00:00:00 2014-02-28 00:00:00\n",
      "2013-12-31 00:00:00 2014-03-31 00:00:00\n",
      "2014-01-30 00:00:00 2014-04-30 00:00:00\n",
      "2014-02-28 00:00:00 2014-05-31 00:00:00\n",
      "2014-03-30 00:00:00 2014-06-30 00:00:00\n",
      "2014-04-30 00:00:00 2014-07-31 00:00:00\n",
      "2014-05-31 00:00:00 2014-08-31 00:00:00\n",
      "2014-06-30 00:00:00 2014-09-30 00:00:00\n",
      "2014-07-31 00:00:00 2014-10-31 00:00:00\n",
      "2014-08-30 00:00:00 2014-11-30 00:00:00\n",
      "2014-09-30 00:00:00 2014-12-31 00:00:00\n",
      "2014-10-31 00:00:00 2015-01-31 00:00:00\n",
      "2014-11-28 00:00:00 2015-02-28 00:00:00\n",
      "2014-12-31 00:00:00 2015-03-31 00:00:00\n",
      "2015-01-30 00:00:00 2015-04-30 00:00:00\n",
      "2015-02-28 00:00:00 2015-05-31 00:00:00\n",
      "2015-03-30 00:00:00 2015-06-30 00:00:00\n",
      "2015-04-30 00:00:00 2015-07-31 00:00:00\n",
      "2015-05-31 00:00:00 2015-08-31 00:00:00\n",
      "2015-06-30 00:00:00 2015-09-30 00:00:00\n",
      "2015-07-31 00:00:00 2015-10-31 00:00:00\n",
      "2015-08-30 00:00:00 2015-11-30 00:00:00\n",
      "2015-09-30 00:00:00 2015-12-31 00:00:00\n",
      "2015-10-31 00:00:00 2016-01-31 00:00:00\n",
      "2015-11-29 00:00:00 2016-02-29 00:00:00\n",
      "2015-12-31 00:00:00 2016-03-31 00:00:00\n",
      "2016-01-30 00:00:00 2016-04-30 00:00:00\n",
      "2016-02-29 00:00:00 2016-05-31 00:00:00\n",
      "2016-03-30 00:00:00 2016-06-30 00:00:00\n",
      "2016-04-30 00:00:00 2016-07-31 00:00:00\n",
      "2016-05-31 00:00:00 2016-08-31 00:00:00\n",
      "2016-06-30 00:00:00 2016-09-30 00:00:00\n",
      "2016-07-31 00:00:00 2016-10-31 00:00:00\n",
      "2016-08-30 00:00:00 2016-11-30 00:00:00\n",
      "2016-09-30 00:00:00 2016-12-31 00:00:00\n",
      "2016-10-31 00:00:00 2017-01-31 00:00:00\n",
      "2016-11-28 00:00:00 2017-02-28 00:00:00\n",
      "2016-12-31 00:00:00 2017-03-31 00:00:00\n",
      "2017-01-30 00:00:00 2017-04-30 00:00:00\n",
      "2017-02-28 00:00:00 2017-05-31 00:00:00\n",
      "2017-03-30 00:00:00 2017-06-30 00:00:00\n",
      "2017-04-30 00:00:00 2017-07-31 00:00:00\n",
      "2017-05-31 00:00:00 2017-08-31 00:00:00\n",
      "2017-06-30 00:00:00 2017-09-30 00:00:00\n",
      "2017-07-31 00:00:00 2017-10-31 00:00:00\n",
      "2017-08-30 00:00:00 2017-11-30 00:00:00\n",
      "2017-09-30 00:00:00 2017-12-31 00:00:00\n",
      "2017-10-31 00:00:00 2018-01-31 00:00:00\n",
      "2017-11-28 00:00:00 2018-02-28 00:00:00\n",
      "2017-12-31 00:00:00 2018-03-31 00:00:00\n",
      "2018-01-30 00:00:00 2018-04-30 00:00:00\n",
      "2018-02-28 00:00:00 2018-05-31 00:00:00\n",
      "2018-03-30 00:00:00 2018-06-30 00:00:00\n",
      "2018-04-30 00:00:00 2018-07-31 00:00:00\n",
      "2018-05-31 00:00:00 2018-08-31 00:00:00\n",
      "2018-06-30 00:00:00 2018-09-30 00:00:00\n",
      "2018-07-31 00:00:00 2018-10-31 00:00:00\n",
      "2018-08-30 00:00:00 2018-11-30 00:00:00\n",
      "2018-09-30 00:00:00 2018-12-31 00:00:00\n",
      "2018-10-31 00:00:00 2019-01-31 00:00:00\n",
      "2018-11-28 00:00:00 2019-02-28 00:00:00\n",
      "2018-12-31 00:00:00 2019-03-31 00:00:00\n",
      "2019-01-30 00:00:00 2019-04-30 00:00:00\n",
      "2019-02-28 00:00:00 2019-05-31 00:00:00\n",
      "2019-03-30 00:00:00 2019-06-30 00:00:00\n",
      "2019-04-30 00:00:00 2019-07-31 00:00:00\n",
      "2019-05-31 00:00:00 2019-08-31 00:00:00\n",
      "2019-06-30 00:00:00 2019-09-30 00:00:00\n",
      "2019-07-31 00:00:00 2019-10-31 00:00:00\n",
      "2019-08-30 00:00:00 2019-11-30 00:00:00\n",
      "2019-09-30 00:00:00 2019-12-31 00:00:00\n",
      "2019-10-31 00:00:00 2020-01-31 00:00:00\n",
      "2019-11-29 00:00:00 2020-02-29 00:00:00\n",
      "2019-12-31 00:00:00 2020-03-31 00:00:00\n",
      "2020-01-30 00:00:00 2020-04-30 00:00:00\n",
      "2020-02-29 00:00:00 2020-05-31 00:00:00\n",
      "2020-03-30 00:00:00 2020-06-30 00:00:00\n",
      "2020-04-30 00:00:00 2020-07-31 00:00:00\n",
      "2020-05-31 00:00:00 2020-08-31 00:00:00\n",
      "2020-06-30 00:00:00 2020-09-30 00:00:00\n",
      "2020-07-31 00:00:00 2020-10-31 00:00:00\n",
      "2020-08-30 00:00:00 2020-11-30 00:00:00\n",
      "2020-09-30 00:00:00 2020-12-31 00:00:00\n",
      "2020-10-31 00:00:00 2021-01-31 00:00:00\n",
      "2020-11-28 00:00:00 2021-02-28 00:00:00\n",
      "2020-12-31 00:00:00 2021-03-31 00:00:00\n",
      "2021-01-30 00:00:00 2021-04-30 00:00:00\n",
      "2021-02-28 00:00:00 2021-05-31 00:00:00\n",
      "2021-03-30 00:00:00 2021-06-30 00:00:00\n",
      "2021-04-30 00:00:00 2021-07-31 00:00:00\n",
      "2021-05-31 00:00:00 2021-08-31 00:00:00\n",
      "2021-06-30 00:00:00 2021-09-30 00:00:00\n",
      "2021-07-31 00:00:00 2021-10-31 00:00:00\n",
      "2021-08-23 00:00:00 2021-11-23 00:00:00\n"
     ]
    }
   ],
   "source": [
    "for month in backtest_month[backtest_month >= start_date]:\n",
    "    print(month - relativedelta(months = 3),month) # backtest season start and end\n",
    "    for fund in filled_trade_nv_log_return.columns: # mutual fund with stock heavyweight\n",
    "        \n",
    "        tmp_return = filled_trade_nv_log_return.loc[month - relativedelta(months = 3):month,fund] # last season \n",
    "        tmp_return.dropna(inplace = True)\n",
    "        if len(tmp_return) < 45 or len(tmp_return[tmp_return != 0]) < 45: # not enough to fit \n",
    "            continue\n",
    "        \n",
    "        tmp_factor = concat_factor.loc[tmp_return.index] # align factor and daily/log return data\n",
    "        tmp_factor = sm.add_constant(tmp_factor) \n",
    "\n",
    "        # paramaters estimation\n",
    "        est = sm.OLS(tmp_return,tmp_factor) # factor model fit\n",
    "        est = est.fit()\n",
    "        tmp_alpha = est.params.const # alpha\n",
    "        tmp_pvalue = est.pvalues.const # p-value\n",
    "        \n",
    "        alpha_log_return.at[month,fund] = tmp_alpha # all store"
   ]
  },
  {
   "cell_type": "code",
   "execution_count": 21,
   "metadata": {
    "ExecuteTime": {
     "end_time": "2022-04-19T10:03:03.739960Z",
     "start_time": "2022-04-19T10:03:01.961826Z"
    }
   },
   "outputs": [],
   "source": [
    "alpha_log_return.to_csv(\"./Output/alpha_log_return(selfMade33%pct).csv\")"
   ]
  }
 ],
 "metadata": {
  "kernelspec": {
   "display_name": "Python 3 (ipykernel)",
   "language": "python",
   "name": "python3"
  },
  "language_info": {
   "codemirror_mode": {
    "name": "ipython",
    "version": 3
   },
   "file_extension": ".py",
   "mimetype": "text/x-python",
   "name": "python",
   "nbconvert_exporter": "python",
   "pygments_lexer": "ipython3",
   "version": "3.9.7"
  }
 },
 "nbformat": 4,
 "nbformat_minor": 4
}
